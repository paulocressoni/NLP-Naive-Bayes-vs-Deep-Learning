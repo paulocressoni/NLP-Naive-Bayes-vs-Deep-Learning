{
  "nbformat": 4,
  "nbformat_minor": 0,
  "metadata": {
    "colab": {
      "name": "NLP - Naive Bayes vs Deep Learning.ipynb",
      "provenance": [],
      "collapsed_sections": []
    },
    "kernelspec": {
      "name": "python3",
      "display_name": "Python 3"
    },
    "accelerator": "GPU"
  },
  "cells": [
    {
      "cell_type": "markdown",
      "metadata": {
        "id": "ZmzIzY0LpGyT",
        "colab_type": "text"
      },
      "source": [
        "https://realpython.com/python-keras-text-classification/\n",
        "\n",
        "Check this out\n"
      ]
    },
    {
      "cell_type": "markdown",
      "metadata": {
        "id": "y-kFsjXA4Dp0",
        "colab_type": "text"
      },
      "source": [
        "# Using NLP to newsgroup documents classification\n",
        "\n",
        "We'll compare Naive Bayes and Deep Learning models used for the classification of [newsgroup texts](http://qwone.com/~jason/20Newsgroups/). \n",
        "\n",
        "What we'll be doing: \n",
        "1. Multinomial Naive Bayes model\n",
        "2. Deep Learning model\n",
        "3. Deep Learning model with pre-trained embedded layer\n",
        "\n",
        "We'll also check the accuracy of the models and some other metrics as well as ploting a confusion matrix.\n"
      ]
    },
    {
      "cell_type": "markdown",
      "metadata": {
        "id": "4nJa3LrtOgE9",
        "colab_type": "text"
      },
      "source": [
        "# Multinomial Naive Bayes"
      ]
    },
    {
      "cell_type": "markdown",
      "metadata": {
        "id": "VXx0Wx5aQOJf",
        "colab_type": "text"
      },
      "source": [
        "## Import Libs"
      ]
    },
    {
      "cell_type": "code",
      "metadata": {
        "id": "9LEH7QhxOgl5",
        "colab_type": "code",
        "colab": {}
      },
      "source": [
        "import pandas as pd\n",
        "import matplotlib.pyplot as plt\n",
        "import seaborn as sns\n",
        "import numpy as np\n",
        "import re\n",
        "\n",
        "from sklearn import datasets\n",
        "from sklearn.model_selection import train_test_split, GridSearchCV, cross_val_score\n",
        "from sklearn.naive_bayes import MultinomialNB\n",
        "from sklearn.feature_extraction.text import CountVectorizer, TfidfTransformer\n",
        "from sklearn.preprocessing import StandardScaler\n",
        "from sklearn.metrics import accuracy_score, confusion_matrix, classification_report\n",
        "from sklearn.pipeline import Pipeline"
      ],
      "execution_count": null,
      "outputs": []
    },
    {
      "cell_type": "markdown",
      "metadata": {
        "id": "x85x58CBQ2b2",
        "colab_type": "text"
      },
      "source": [
        "## Load the Dataset"
      ]
    },
    {
      "cell_type": "code",
      "metadata": {
        "id": "DeQZFW20OhRM",
        "colab_type": "code",
        "colab": {}
      },
      "source": [
        "# load dataset\n",
        "twenty = datasets.fetch_20newsgroups(shuffle = False)"
      ],
      "execution_count": null,
      "outputs": []
    },
    {
      "cell_type": "code",
      "metadata": {
        "id": "04MZ7FgKOhbS",
        "colab_type": "code",
        "colab": {
          "base_uri": "https://localhost:8080/",
          "height": 364
        },
        "outputId": "cabadf7f-31c7-4446-9a4b-06816407d44e"
      },
      "source": [
        "# display labels\n",
        "for trg, trg_name in zip(set(twenty.target), twenty.target_names):\n",
        "    print(f\"{trg}  ==>  {trg_name}\")"
      ],
      "execution_count": null,
      "outputs": [
        {
          "output_type": "stream",
          "text": [
            "0  ==>  alt.atheism\n",
            "1  ==>  comp.graphics\n",
            "2  ==>  comp.os.ms-windows.misc\n",
            "3  ==>  comp.sys.ibm.pc.hardware\n",
            "4  ==>  comp.sys.mac.hardware\n",
            "5  ==>  comp.windows.x\n",
            "6  ==>  misc.forsale\n",
            "7  ==>  rec.autos\n",
            "8  ==>  rec.motorcycles\n",
            "9  ==>  rec.sport.baseball\n",
            "10  ==>  rec.sport.hockey\n",
            "11  ==>  sci.crypt\n",
            "12  ==>  sci.electronics\n",
            "13  ==>  sci.med\n",
            "14  ==>  sci.space\n",
            "15  ==>  soc.religion.christian\n",
            "16  ==>  talk.politics.guns\n",
            "17  ==>  talk.politics.mideast\n",
            "18  ==>  talk.politics.misc\n",
            "19  ==>  talk.religion.misc\n"
          ],
          "name": "stdout"
        }
      ]
    },
    {
      "cell_type": "markdown",
      "metadata": {
        "id": "fCnPLD2eW55a",
        "colab_type": "text"
      },
      "source": [
        "## Transform Data"
      ]
    },
    {
      "cell_type": "code",
      "metadata": {
        "id": "XBuC824xW5bX",
        "colab_type": "code",
        "colab": {}
      },
      "source": [
        "# train test split\n",
        "X_train, X_test, y_train, y_test = train_test_split(twenty.data, twenty.target, test_size=0.3, random_state=10)"
      ],
      "execution_count": null,
      "outputs": []
    },
    {
      "cell_type": "code",
      "metadata": {
        "id": "Oi9DFvrp72Ft",
        "colab_type": "code",
        "colab": {
          "base_uri": "https://localhost:8080/",
          "height": 52
        },
        "outputId": "2178af12-9f1a-40c7-f1c6-09f3480af1fb"
      },
      "source": [
        "print(len(X_train))\n",
        "print(len(X_test))"
      ],
      "execution_count": null,
      "outputs": [
        {
          "output_type": "stream",
          "text": [
            "7919\n",
            "3395\n"
          ],
          "name": "stdout"
        }
      ]
    },
    {
      "cell_type": "code",
      "metadata": {
        "id": "H-nhw9prXORp",
        "colab_type": "code",
        "colab": {
          "base_uri": "https://localhost:8080/",
          "height": 486
        },
        "outputId": "e0400675-bdd4-4930-b390-c5e3328531d8"
      },
      "source": [
        "i = 4\n",
        "print(f\"Target: {y_train[i]} ==> {twenty.target_names[y_train[i]]}\")\n",
        "print('-------------------------------------------------------------')\n",
        "print(X_train[i])"
      ],
      "execution_count": null,
      "outputs": [
        {
          "output_type": "stream",
          "text": [
            "Target: 3 ==> comp.sys.ibm.pc.hardware\n",
            "-------------------------------------------------------------\n",
            "From: spring@diku.dk (Jesper Honig Spring)\n",
            "Subject: COMPAQ and standard SIMM RAM (HELP)\n",
            "Organization: Department of Computer Science, U of Copenhagen\n",
            "Lines: 19\n",
            "\n",
            "\n",
            "Hello,\n",
            "\n",
            "\n",
            "Can anyone out there tell me if it is possible to put ordinary standard\n",
            "SIMM RAM chips (70 ns) in a COMPAQ PROLINEA 4/50 or do COMPAQ require \n",
            "special COMPAQ RAM chips. \n",
            "\n",
            "Please (also) email me.\n",
            "\n",
            "\n",
            "Thanks in advance.\n",
            "\n",
            "Jesper\n",
            "-- \n",
            "-------------------------------------------------------------------------------\n",
            "jesper honig spring, spring@diku.dk |        IF ANIMALS BELIEVED IN GOD       \n",
            "university of copenhagen, denmark   |         THE DEVIL WOULD BE A MAN\n",
            "-------------------------------------------------------------------------------\n",
            "\n"
          ],
          "name": "stdout"
        }
      ]
    },
    {
      "cell_type": "code",
      "metadata": {
        "id": "gAQQCzn74J12",
        "colab_type": "code",
        "colab": {}
      },
      "source": [
        "# english stop words\n",
        "stop_words = frozenset([\"'d\", \"'ll\", \"'re\", \"'s\", \"'ve\", 'a', 'about', 'above', 'after', 'again', 'against', 'all', 'am', 'an', 'and', 'any', 'are', 'as', 'at', 'be', \n",
        "'because', 'been', 'before', 'being', 'below', 'between', 'both', 'but', 'by', 'can', 'could', 'did', 'do', 'does', 'doing', 'don', 'down', \n",
        "'during', 'each', 'few', 'for', 'from', 'further', 'had', 'has', 'have', 'having', 'he', \"he'd\", \"he'll\", \"he's\", 'her', 'here', \"here's\", \n",
        "'hers', 'herself', 'him', 'himself', 'his', 'how', \"how's\", 'i', \"i'd\", \"i'll\", \"i'm\", \"i've\", 'if', 'in', 'into', 'is', 'it', \"it's\", \n",
        "'its', 'itself', 'just', \"let's\", 'me', 'more', 'most', 'my', 'myself', 'no', 'nor', 'not', 'now', 'of', 'off', 'on', 'once', 'only', \n",
        "'or', 'other', 'ought', 'our', 'ours', 'ourselves', 'out', 'over', 'own', 's', 'same', 'she', \"she'd\", \"she'll\", \"she's\", 'should', 'so', \n",
        "'some', 'such', 't', 'than', 'that', \"that's\", 'the', 'their', 'theirs', 'them', 'themselves', 'then', 'there', \"there's\", 'these', \n",
        "'they', \"they'd\", \"they'll\", \"they're\", \"they've\", 'this', 'those', 'through', 'to', 'too', 'under', 'until', 'up', 'very', 'was', \n",
        "'we', \"we'd\", \"we'll\", \"we're\", \"we've\", 'were', 'what', \"what's\", 'when', \"when's\", 'where', \"where's\", 'which', 'while', 'who', \n",
        "\"who's\", 'whom', 'why', \"why's\", 'will', 'with', 'would', 'you', \"you'd\", \"you'll\", \"you're\", \"you've\", 'your', 'yours', 'yourself', 'yourselves'])"
      ],
      "execution_count": null,
      "outputs": []
    },
    {
      "cell_type": "code",
      "metadata": {
        "colab_type": "code",
        "id": "os6ESEYPePje",
        "colab": {}
      },
      "source": [
        "def transform_sentences(sentences_array, stop_words):\n",
        "    # transforms the sentences removing: \n",
        "    # stop_words, multiple blank spaces and e-mail addresses\n",
        "    tmp = \"\"\n",
        "    sentences = []\n",
        "    for sentence in sentences_array:\n",
        "        # to lower case\n",
        "        tmp = sentence.lower()\n",
        "        # remove email addresses\n",
        "        tmp = re.sub(r\"\\S*@\\S*\", \" \", tmp)\n",
        "        # remove e-mail common words\n",
        "        tmp = tmp.replace(\"from:\", \"\")\n",
        "        tmp = tmp.replace(\"re:\", \"\")\n",
        "        tmp = tmp.replace(\"subject:\", \"\")\n",
        "        tmp = tmp.replace(\"lines:\", \"\")\n",
        "        tmp = tmp.replace(\"organization:\", \"\")\n",
        "        # remove single chars on the text\n",
        "        tmp = re.sub(rf\"(\\W)\\w(\\W)\", \" \", tmp)\n",
        "\n",
        "        # for each stop_word\n",
        "        for stop_word in stop_words:\n",
        "            # remove stop word\n",
        "            tmp = re.sub(rf\"(\\W){stop_word}(\\W)\", \" \", tmp)\n",
        "\n",
        "        # convert multiple spaces to single ones\n",
        "        tmp = re.sub(r\"\\s+\", \" \", tmp)\n",
        "        # append result to sentences\n",
        "        sentences.append(tmp)\n",
        "    return sentences"
      ],
      "execution_count": null,
      "outputs": []
    },
    {
      "cell_type": "code",
      "metadata": {
        "colab_type": "code",
        "id": "mqyhqDi3ePkK",
        "colab": {}
      },
      "source": [
        "# pre-process the training and testing set\n",
        "X_train = transform_sentences(X_train, stop_words=stop_words)\n",
        "X_test = transform_sentences(X_test, stop_words=stop_words)"
      ],
      "execution_count": null,
      "outputs": []
    },
    {
      "cell_type": "code",
      "metadata": {
        "id": "QxKYnfDv9410",
        "colab_type": "code",
        "colab": {}
      },
      "source": [
        "# Pipeline: vectorizer => transformer\n",
        "text_clf = Pipeline([('vect', CountVectorizer(stop_words=stop_words)),\n",
        "                     ('tfidf', TfidfTransformer())\n",
        "])"
      ],
      "execution_count": null,
      "outputs": []
    },
    {
      "cell_type": "code",
      "metadata": {
        "id": "9OROa_t7-Puv",
        "colab_type": "code",
        "colab": {
          "base_uri": "https://localhost:8080/",
          "height": 72
        },
        "outputId": "77cd3c59-a972-49d5-824e-a252eeec3749"
      },
      "source": [
        "# prepare the data to input the model\n",
        "X_train_tf = text_clf.fit_transform(X_train)"
      ],
      "execution_count": null,
      "outputs": [
        {
          "output_type": "stream",
          "text": [
            "/usr/local/lib/python3.6/dist-packages/sklearn/feature_extraction/text.py:385: UserWarning: Your stop_words may be inconsistent with your preprocessing. Tokenizing the stop words generated tokens ['let', 'll', 're', 've'] not in stop_words.\n",
            "  'stop_words.' % sorted(inconsistent))\n"
          ],
          "name": "stderr"
        }
      ]
    },
    {
      "cell_type": "code",
      "metadata": {
        "id": "wRP49sto_JdL",
        "colab_type": "code",
        "colab": {
          "base_uri": "https://localhost:8080/",
          "height": 69
        },
        "outputId": "acc07b78-ed1e-46fd-ebe5-a7c40c9f0ec4"
      },
      "source": [
        "print(X_train_tf.shape)\n",
        "print(f\"There are {X_train_tf.shape[0]} sentences in the training set.\")\n",
        "print(f\"There are {X_train_tf.shape[1]} unique words in the training set.\")"
      ],
      "execution_count": null,
      "outputs": [
        {
          "output_type": "stream",
          "text": [
            "(7919, 86878)\n",
            "There are 7919 sentences in the training set.\n",
            "There are 86878 unique words in the training set.\n"
          ],
          "name": "stdout"
        }
      ]
    },
    {
      "cell_type": "markdown",
      "metadata": {
        "id": "bHsIsNaEB4qo",
        "colab_type": "text"
      },
      "source": [
        "## Create the model"
      ]
    },
    {
      "cell_type": "code",
      "metadata": {
        "id": "RIjlrGNGOhxg",
        "colab_type": "code",
        "colab": {}
      },
      "source": [
        "# create and fit the Multinomial Naive Bayes model\n",
        "model = MultinomialNB().fit(X_train_tf, y_train)"
      ],
      "execution_count": null,
      "outputs": []
    },
    {
      "cell_type": "code",
      "metadata": {
        "id": "W12PtqMVOh41",
        "colab_type": "code",
        "colab": {}
      },
      "source": [
        "# transform the test dataset\n",
        "X_test_tf = text_clf.transform(X_test)\n",
        "\n",
        "# predict\n",
        "y_hat = model.predict(X_test_tf)"
      ],
      "execution_count": null,
      "outputs": []
    },
    {
      "cell_type": "code",
      "metadata": {
        "id": "binVIui4OiAG",
        "colab_type": "code",
        "colab": {
          "base_uri": "https://localhost:8080/",
          "height": 106
        },
        "outputId": "7fbceb46-d7f9-43b9-e4a6-7e1a4dba67f6"
      },
      "source": [
        "i = 0\n",
        "print(f\"Predicted: {y_hat[i]} ==> {twenty.target_names[y_hat[i]]}\")\n",
        "print(f\"Original : {y_test[i]} ==> {twenty.target_names[y_test[i]]}\")\n",
        "print(\"--------------------------------------------------------------\")\n",
        "print(X_test[i])"
      ],
      "execution_count": null,
      "outputs": [
        {
          "output_type": "stream",
          "text": [
            "Predicted: 11 ==> sci.crypt\n",
            "Original : 11 ==> sci.crypt\n",
            "--------------------------------------------------------------\n",
            " (rob defriesse) des code shipped canada? article d.: fripp.1993apr22.125402.27561 reply cadre technologies inc. 13 nntp-posting-host: 192 200.19 someone canada asked send public domain des file encryption code legal send thanx. -- eschew obfuscation rob defriesse mail: cadre technologies inc. phone: (401) 351-5950 222 richmond st. fax: (401) 351-7380 providence, ri 02903 speak employer. \n"
          ],
          "name": "stdout"
        }
      ]
    },
    {
      "cell_type": "markdown",
      "metadata": {
        "id": "z9idiN4CYhFg",
        "colab_type": "text"
      },
      "source": [
        "## Make predictions on new data"
      ]
    },
    {
      "cell_type": "code",
      "metadata": {
        "id": "TGvrP2UaOiHb",
        "colab_type": "code",
        "colab": {
          "base_uri": "https://localhost:8080/",
          "height": 86
        },
        "outputId": "7290165b-28e5-4d71-da6b-c81c44f10530"
      },
      "source": [
        "# custom phrases\n",
        "docs_new = ['God is love', \n",
        "            'OpenGL on the GPU is fast', \n",
        "            \"You can not go on without our new product. There's a promotion for you right now!!\", \n",
        "            'You should read the BIBLE! It is the greatest book of all time.']\n",
        "\n",
        "X_new_tfidf = text_clf.transform(docs_new)\n",
        "\n",
        "predicted = model.predict(X_new_tfidf)\n",
        "\n",
        "for doc, category in zip(docs_new, predicted):\n",
        "    print(f'{doc} => {twenty.target_names[category]}')"
      ],
      "execution_count": null,
      "outputs": [
        {
          "output_type": "stream",
          "text": [
            "God is love => soc.religion.christian\n",
            "OpenGL on the GPU is fast => rec.autos\n",
            "You can not go on without our new product. There's a promotion for you right now!! => sci.crypt\n",
            "You should read the BIBLE! It is the greatest book of all time. => soc.religion.christian\n"
          ],
          "name": "stdout"
        }
      ]
    },
    {
      "cell_type": "markdown",
      "metadata": {
        "id": "QAt-1gcuCCav",
        "colab_type": "text"
      },
      "source": [
        "## Model Performance"
      ]
    },
    {
      "cell_type": "code",
      "metadata": {
        "id": "9LI5TcgHOiO9",
        "colab_type": "code",
        "colab": {
          "base_uri": "https://localhost:8080/",
          "height": 34
        },
        "outputId": "c9f5c6d1-1394-4c65-8651-ca9178a8355d"
      },
      "source": [
        "# check if the model performs well on unseen data\n",
        "accuracy_score = accuracy_score(y_test, y_hat)\n",
        "print(accuracy_score)"
      ],
      "execution_count": null,
      "outputs": [
        {
          "output_type": "stream",
          "text": [
            "0.8674521354933726\n"
          ],
          "name": "stdout"
        }
      ]
    },
    {
      "cell_type": "code",
      "metadata": {
        "colab_type": "code",
        "id": "DBk1TQyPZP-4",
        "colab": {}
      },
      "source": [
        "# confusion matrix\n",
        "cm = confusion_matrix(y_test, y_hat)"
      ],
      "execution_count": null,
      "outputs": []
    },
    {
      "cell_type": "code",
      "metadata": {
        "colab_type": "code",
        "id": "hqvyhAbqZP_T",
        "colab": {
          "base_uri": "https://localhost:8080/",
          "height": 486
        },
        "outputId": "479815c9-20f3-4083-f25b-bea8fa66fed6"
      },
      "source": [
        "# text report showing the main classification metrics\n",
        "print(classification_report(y_test, y_hat))"
      ],
      "execution_count": null,
      "outputs": [
        {
          "output_type": "stream",
          "text": [
            "              precision    recall  f1-score   support\n",
            "\n",
            "           0       0.89      0.77      0.82       149\n",
            "           1       0.94      0.75      0.84       196\n",
            "           2       0.77      0.90      0.83       156\n",
            "           3       0.73      0.86      0.79       161\n",
            "           4       0.93      0.88      0.90       172\n",
            "           5       0.93      0.86      0.89       175\n",
            "           6       0.83      0.85      0.84       149\n",
            "           7       0.87      0.93      0.90       168\n",
            "           8       0.97      0.93      0.95       181\n",
            "           9       0.98      0.97      0.98       193\n",
            "          10       0.95      0.98      0.97       189\n",
            "          11       0.76      0.98      0.85       171\n",
            "          12       0.92      0.77      0.84       184\n",
            "          13       0.96      0.97      0.97       164\n",
            "          14       0.88      0.98      0.93       167\n",
            "          15       0.67      0.97      0.79       197\n",
            "          16       0.85      0.96      0.90       174\n",
            "          17       0.90      0.99      0.94       180\n",
            "          18       0.96      0.68      0.80       139\n",
            "          19       0.95      0.14      0.24       130\n",
            "\n",
            "    accuracy                           0.87      3395\n",
            "   macro avg       0.88      0.86      0.85      3395\n",
            "weighted avg       0.88      0.87      0.86      3395\n",
            "\n"
          ],
          "name": "stdout"
        }
      ]
    },
    {
      "cell_type": "code",
      "metadata": {
        "colab_type": "code",
        "id": "Cxxl_iBEZP_e",
        "colab": {
          "base_uri": "https://localhost:8080/",
          "height": 643
        },
        "outputId": "7472a699-351b-4a24-9e3d-50f386862010"
      },
      "source": [
        "# plot the confusion matrix\n",
        "plt.rcParams.update({'figure.figsize': (10, 10), 'figure.dpi': 80})\n",
        "plt.figure(figsize=(10, 10))\n",
        "sns.heatmap(cm, annot=True, fmt=\".0f\", linewidths=.5, square = True, cmap = 'Blues_r');\n",
        "plt.ylabel('Actual label');\n",
        "plt.xlabel('Predicted label');\n",
        "all_sample_title = 'Accuracy Score: {:f}'.format(accuracy_score)\n",
        "plt.title(all_sample_title, size = 15);"
      ],
      "execution_count": null,
      "outputs": [
        {
          "output_type": "display_data",
          "data": {
            "image/png": "[encoded data removed]",
            "text/plain": [
              "<Figure size 800x800 with 2 Axes>"
            ]
          },
          "metadata": {
            "tags": [],
            "needs_background": "light"
          }
        }
      ]
    },
    {
      "cell_type": "markdown",
      "metadata": {
        "id": "fENHXQRGCgTg",
        "colab_type": "text"
      },
      "source": [
        "# Using Tensorflow and Keras"
      ]
    },
    {
      "cell_type": "markdown",
      "metadata": {
        "id": "CVzyaCwxw6u1",
        "colab_type": "text"
      },
      "source": [
        "## Import Libs"
      ]
    },
    {
      "cell_type": "code",
      "metadata": {
        "id": "VyN5VoNpBeiT",
        "colab_type": "code",
        "colab": {}
      },
      "source": [
        "import tensorflow as tf\n",
        "import csv\n",
        "import numpy as np\n",
        "import matplotlib.pyplot as plt\n",
        "import seaborn as sns\n",
        "import re\n",
        "from math import floor\n",
        "\n",
        "from sklearn.metrics import accuracy_score, confusion_matrix, classification_report\n",
        "from sklearn import datasets\n",
        "import sklearn as sk\n",
        "from sklearn.preprocessing import OneHotEncoder\n",
        "from sklearn.model_selection import train_test_split\n",
        "from tensorflow.keras.preprocessing.text import Tokenizer\n",
        "from tensorflow.keras.preprocessing.sequence import pad_sequences"
      ],
      "execution_count": null,
      "outputs": []
    },
    {
      "cell_type": "markdown",
      "metadata": {
        "id": "4FzLpfqCcCsl",
        "colab_type": "text"
      },
      "source": [
        "## Load Data"
      ]
    },
    {
      "cell_type": "code",
      "metadata": {
        "colab_type": "code",
        "id": "mYo_0pkTzJb7",
        "colab": {}
      },
      "source": [
        "# load the dataset\n",
        "twenty = datasets.fetch_20newsgroups(shuffle = False)"
      ],
      "execution_count": null,
      "outputs": []
    },
    {
      "cell_type": "code",
      "metadata": {
        "colab_type": "code",
        "id": "mxhsob-EzJcW",
        "colab": {
          "base_uri": "https://localhost:8080/",
          "height": 364
        },
        "outputId": "35e27e82-ecb4-40ea-9610-38ea12952f91"
      },
      "source": [
        "# display the labels\n",
        "for trg, trg_name in zip(set(twenty.target), twenty.target_names):\n",
        "    print(f\"{trg}  ==>  {trg_name}\")"
      ],
      "execution_count": null,
      "outputs": [
        {
          "output_type": "stream",
          "text": [
            "0  ==>  alt.atheism\n",
            "1  ==>  comp.graphics\n",
            "2  ==>  comp.os.ms-windows.misc\n",
            "3  ==>  comp.sys.ibm.pc.hardware\n",
            "4  ==>  comp.sys.mac.hardware\n",
            "5  ==>  comp.windows.x\n",
            "6  ==>  misc.forsale\n",
            "7  ==>  rec.autos\n",
            "8  ==>  rec.motorcycles\n",
            "9  ==>  rec.sport.baseball\n",
            "10  ==>  rec.sport.hockey\n",
            "11  ==>  sci.crypt\n",
            "12  ==>  sci.electronics\n",
            "13  ==>  sci.med\n",
            "14  ==>  sci.space\n",
            "15  ==>  soc.religion.christian\n",
            "16  ==>  talk.politics.guns\n",
            "17  ==>  talk.politics.mideast\n",
            "18  ==>  talk.politics.misc\n",
            "19  ==>  talk.religion.misc\n"
          ],
          "name": "stdout"
        }
      ]
    },
    {
      "cell_type": "markdown",
      "metadata": {
        "colab_type": "text",
        "id": "x5M3ybjqzJck"
      },
      "source": [
        "## Transform Data"
      ]
    },
    {
      "cell_type": "code",
      "metadata": {
        "colab_type": "code",
        "id": "xaYLoFvGzJcn",
        "colab": {}
      },
      "source": [
        "# train test split\n",
        "X_train, X_test, y_train, y_test = train_test_split(twenty.data, twenty.target, test_size=0.15, random_state=10)\n",
        "\n",
        "# train validation split\n",
        "X_train, X_val, y_train, y_val = train_test_split(X_train, y_train, test_size=0.1, random_state=10)"
      ],
      "execution_count": null,
      "outputs": []
    },
    {
      "cell_type": "code",
      "metadata": {
        "colab_type": "code",
        "id": "IgejCocHzJct",
        "colab": {
          "base_uri": "https://localhost:8080/",
          "height": 69
        },
        "outputId": "5545ea9a-e852-4118-9f49-25b3a06687ef"
      },
      "source": [
        "# size of train, test and validation datasets\n",
        "print(len(X_train))\n",
        "print(len(y_val))\n",
        "print(len(X_test))"
      ],
      "execution_count": null,
      "outputs": [
        {
          "output_type": "stream",
          "text": [
            "8654\n",
            "962\n",
            "1698\n"
          ],
          "name": "stdout"
        }
      ]
    },
    {
      "cell_type": "code",
      "metadata": {
        "colab_type": "code",
        "id": "qARvm7Z4zJc0",
        "colab": {
          "base_uri": "https://localhost:8080/",
          "height": 434
        },
        "outputId": "0deff789-656c-4fbf-8952-d1785e4e134d"
      },
      "source": [
        "i = 4\n",
        "print(f\"Target: {y_train[i]} ==> {twenty.target_names[y_train[i]]}\")\n",
        "print('-------------------------------------------------------------')\n",
        "print(X_train[i])"
      ],
      "execution_count": null,
      "outputs": [
        {
          "output_type": "stream",
          "text": [
            "Target: 1 ==> comp.graphics\n",
            "-------------------------------------------------------------\n",
            "Organization: City University of New York\n",
            "From: <NT3QC@CUNYVM.BITNET>\n",
            "Subject: RE: Hot new 3D software\n",
            "Lines: 16\n",
            "\n",
            "I don't think speed has been determined, since it has never run on Intel chips.\n",
            "But on the Amiga's Motorola Chips, it was one of the fastest true 'Ray Tracers'\n",
            "\n",
            "I don't think Impulse would port it over and not take speed into consideration.\n",
            "\n",
            "In terms of features, and learning curve... ALL that you stated for 3DS is also\n",
            "true for Imagine, and lots more... But I'll have to admit that after 3 years of\n",
            "use on the Amiga, the learning curve is very steep. This is due ONLY to the\n",
            "manual. It is realy BAD. However, there is a lot of after market support for\n",
            "this product, including regular 'Tips' articles in many magazines such as \"AVID\n",
            "and a great book by Steve Worley called \"Understanding Imagine 2.0\" This book i\n",
            "is not just recommened, IT IS A MUST!\n",
            "\n",
            "I think an important consideration should be price......\n",
            "$3000 for 3DS (Not including \"tool\" packages)\n",
            "Under $500 for Imagine complete.\n",
            "\n"
          ],
          "name": "stdout"
        }
      ]
    },
    {
      "cell_type": "code",
      "metadata": {
        "colab_type": "code",
        "id": "F9ufFemDzJc6",
        "colab": {}
      },
      "source": [
        "# english stop words\n",
        "stop_words = frozenset([\"'d\", \"'ll\", \"'re\", \"'s\", \"'ve\", 'a', 'about', 'above', 'after', 'again', 'against', 'all', 'am', 'an', 'and', 'any', 'are', 'as', 'at', 'be', \n",
        "'because', 'been', 'before', 'being', 'below', 'between', 'both', 'but', 'by', 'can', 'could', 'did', 'do', 'does', 'doing', 'don', 'down', \n",
        "'during', 'each', 'few', 'for', 'from', 'further', 'had', 'has', 'have', 'having', 'he', \"he'd\", \"he'll\", \"he's\", 'her', 'here', \"here's\", \n",
        "'hers', 'herself', 'him', 'himself', 'his', 'how', \"how's\", 'i', \"i'd\", \"i'll\", \"i'm\", \"i've\", 'if', 'in', 'into', 'is', 'it', \"it's\", \n",
        "'its', 'itself', 'just', \"let's\", 'me', 'more', 'most', 'my', 'myself', 'no', 'nor', 'not', 'now', 'of', 'off', 'on', 'once', 'only', \n",
        "'or', 'other', 'ought', 'our', 'ours', 'ourselves', 'out', 'over', 'own', 's', 'same', 'she', \"she'd\", \"she'll\", \"she's\", 'should', 'so', \n",
        "'some', 'such', 't', 'than', 'that', \"that's\", 'the', 'their', 'theirs', 'them', 'themselves', 'then', 'there', \"there's\", 'these', \n",
        "'they', \"they'd\", \"they'll\", \"they're\", \"they've\", 'this', 'those', 'through', 'to', 'too', 'under', 'until', 'up', 'very', 'was', \n",
        "'we', \"we'd\", \"we'll\", \"we're\", \"we've\", 'were', 'what', \"what's\", 'when', \"when's\", 'where', \"where's\", 'which', 'while', 'who', \n",
        "\"who's\", 'whom', 'why', \"why's\", 'will', 'with', 'would', 'you', \"you'd\", \"you'll\", \"you're\", \"you've\", 'your', 'yours', 'yourself', 'yourselves'])"
      ],
      "execution_count": null,
      "outputs": []
    },
    {
      "cell_type": "code",
      "metadata": {
        "id": "T5RczlZn4e9J",
        "colab_type": "code",
        "colab": {
          "base_uri": "https://localhost:8080/",
          "height": 364
        },
        "outputId": "5c089369-5072-4429-be57-98d4e8beb63d"
      },
      "source": [
        "# take a look at our data\n",
        "print(X_train[0])"
      ],
      "execution_count": null,
      "outputs": [
        {
          "output_type": "stream",
          "text": [
            "From: glover@tafs2.mitre.org (Graham K. Glover)\n",
            "Subject: The Cold War: Who REALLY Won?\n",
            "Nntp-Posting-Host: gglover-mac.mitre.org\n",
            "Organization: The MITRE Corporation, McLean, VA\n",
            "Lines: 13\n",
            "\n",
            "If one reasons that the United States of America at one time represented \n",
            "and protected freedom << individual liberty and personal responsibility >> \n",
            "(and I do, in fact, think that this is true) and that totalitarianism << \n",
            "absolute government control and tyranny >> represents freedom's opposite \n",
            "(which it does), did the USA really win the cold war?\n",
            "\n",
            "Standard disclaimers ALWAYS apply!\n",
            "\n",
            "----------------\n",
            "Graham K. Glover\n",
            "----------------\n",
            "\n",
            "UNMUTUAL\n",
            "\n"
          ],
          "name": "stdout"
        }
      ]
    },
    {
      "cell_type": "code",
      "metadata": {
        "id": "AtVwb53Hx0we",
        "colab_type": "code",
        "colab": {}
      },
      "source": [
        "def transform_sentences(sentences_array, stop_words):\n",
        "    # transforms the sentences removing: \n",
        "    # stop_words, multiple blank spaces and e-mail addresses\n",
        "    tmp = \"\"\n",
        "    sentences = []\n",
        "    for sentence in sentences_array:\n",
        "        # to lower case\n",
        "        tmp = sentence.lower()\n",
        "        # remove email addresses\n",
        "        tmp = re.sub(r\"\\S*@\\S*\", \" \", tmp)\n",
        "        # remove e-mail common words\n",
        "        tmp = tmp.replace(\"from:\", \"\")\n",
        "        tmp = tmp.replace(\"re:\", \"\")\n",
        "        tmp = tmp.replace(\"subject:\", \"\")\n",
        "        tmp = tmp.replace(\"lines:\", \"\")\n",
        "        tmp = tmp.replace(\"organization:\", \"\")\n",
        "        # remove single chars on the text\n",
        "        tmp = re.sub(rf\"(\\W)\\w(\\W)\", \" \", tmp)\n",
        "\n",
        "        # for each stop_word\n",
        "        for stop_word in stop_words:\n",
        "            # remove stop word\n",
        "            tmp = re.sub(rf\"(\\W){stop_word}(\\W)\", \" \", tmp)\n",
        "\n",
        "        # convert multiple spaces to single ones\n",
        "        tmp = re.sub(r\"\\s+\", \" \", tmp)\n",
        "        # append result to sentences\n",
        "        sentences.append(tmp)\n",
        "    return sentences"
      ],
      "execution_count": null,
      "outputs": []
    },
    {
      "cell_type": "code",
      "metadata": {
        "id": "yQ7_he2Dqkj2",
        "colab_type": "code",
        "colab": {}
      },
      "source": [
        "# pre-process the training and testing set\n",
        "X_train = transform_sentences(X_train, stop_words=stop_words)\n",
        "X_val = transform_sentences(X_val, stop_words=stop_words)\n",
        "X_test = transform_sentences(X_test, stop_words=stop_words)"
      ],
      "execution_count": null,
      "outputs": []
    },
    {
      "cell_type": "code",
      "metadata": {
        "id": "uTk1222C461O",
        "colab_type": "code",
        "colab": {
          "base_uri": "https://localhost:8080/",
          "height": 69
        },
        "outputId": "2522c27c-8562-439e-98fb-292a1b07ecbb"
      },
      "source": [
        "print(len(X_train))\n",
        "print(len(X_val))\n",
        "print(len(X_test))"
      ],
      "execution_count": null,
      "outputs": [
        {
          "output_type": "stream",
          "text": [
            "8654\n",
            "962\n",
            "1698\n"
          ],
          "name": "stdout"
        }
      ]
    },
    {
      "cell_type": "code",
      "metadata": {
        "id": "eY2mtGHTPHmp",
        "colab_type": "code",
        "colab": {
          "base_uri": "https://localhost:8080/",
          "height": 54
        },
        "outputId": "40ee040b-3829-461e-e823-627f32447cf1"
      },
      "source": [
        "i = 0\n",
        "print(X_train[i])"
      ],
      "execution_count": null,
      "outputs": [
        {
          "output_type": "stream",
          "text": [
            " (graham glover) cold war: really won? nntp-posting-host: gglover-mac.mitre.org mitre corporation, mclean, va 13 one reasons united states america one time represented protected freedom << individual liberty personal responsibility >> fact, think true) totalitarianism << absolute government control tyranny >> represents freedom opposite , usa really win cold war? standard disclaimers always apply! ---------------- graham glover ---------------- unmutual \n"
          ],
          "name": "stdout"
        }
      ]
    },
    {
      "cell_type": "code",
      "metadata": {
        "id": "OpMgastJpGSQ",
        "colab_type": "code",
        "colab": {
          "base_uri": "https://localhost:8080/",
          "height": 34
        },
        "outputId": "c8cbbf8d-8859-4a38-cccf-12b71fb5ec7f"
      },
      "source": [
        "count_word = 0\n",
        "for sentence in X_train:\n",
        "    # count the words on training set\n",
        "    count_word += len(sentence.split())\n",
        "\n",
        "# mean number of words on training set\n",
        "max_words = floor(count_word/len(X_train))\n",
        "print(f\"max_words in the model: {max_words}\")\n",
        "\n",
        "# the maximum number of words to keep, based on word frequency\n",
        "# Only the most common `num_words-1` words will be kept\n",
        "vocab_size = 20000\n",
        "# number of dimentions on the embedding layer\n",
        "embedding_dim = 16\n",
        "# truncating type of the sentences\n",
        "trunc_type='post'\n",
        "# padding type of sequences of words\n",
        "padding_type='post'\n",
        "# out-of-value token\n",
        "oov_tok = \"<OOV>\""
      ],
      "execution_count": null,
      "outputs": [
        {
          "output_type": "stream",
          "text": [
            "max_words in the model: 164\n"
          ],
          "name": "stdout"
        }
      ]
    },
    {
      "cell_type": "code",
      "metadata": {
        "id": "VivzIB_ttLh5",
        "colab_type": "code",
        "colab": {}
      },
      "source": [
        "# vectorize a text corpus, by turning each text into a sequence of \n",
        "# integers (each integer being the index of a token in a dictionary)\n",
        "tokenizer = Tokenizer(num_words = vocab_size, oov_token=oov_tok)\n",
        "tokenizer.fit_on_texts(X_train)\n",
        "word_index = tokenizer.word_index"
      ],
      "execution_count": null,
      "outputs": []
    },
    {
      "cell_type": "code",
      "metadata": {
        "id": "dSas-hPtCNNd",
        "colab_type": "code",
        "colab": {
          "base_uri": "https://localhost:8080/",
          "height": 364
        },
        "outputId": "aae35f5f-f901-495a-c781-9c13e7bff398"
      },
      "source": [
        "# top 20 words and it's tokens\n",
        "i=0\n",
        "for word in word_index:\n",
        "    print(f\"{word} : {word_index[word]}\")\n",
        "    i+=1\n",
        "    if i==20: \n",
        "        break"
      ],
      "execution_count": null,
      "outputs": [
        {
          "output_type": "stream",
          "text": [
            "<OOV> : 1\n",
            "'ax : 2\n",
            "one : 3\n",
            "writes : 4\n",
            "' : 5\n",
            "article : 6\n",
            "people : 7\n",
            "like : 8\n",
            "university : 9\n",
            "posting : 10\n",
            "know : 11\n",
            "host : 12\n",
            "get : 13\n",
            "max : 14\n",
            "nntp : 15\n",
            "m : 16\n",
            "think : 17\n",
            "also : 18\n",
            "use : 19\n",
            "new : 20\n"
          ],
          "name": "stdout"
        }
      ]
    },
    {
      "cell_type": "code",
      "metadata": {
        "id": "W_hgQkTZ52d7",
        "colab_type": "code",
        "colab": {
          "base_uri": "https://localhost:8080/",
          "height": 34
        },
        "outputId": "db143fc2-cfdd-4bdb-ee96-983c287604de"
      },
      "source": [
        "print(f\"Total of tokens: {len(word_index)}\")"
      ],
      "execution_count": null,
      "outputs": [
        {
          "output_type": "stream",
          "text": [
            "Total of tokens: 89357\n"
          ],
          "name": "stdout"
        }
      ]
    },
    {
      "cell_type": "code",
      "metadata": {
        "id": "tof6Q045Drht",
        "colab_type": "code",
        "colab": {}
      },
      "source": [
        "# Transforms each text in texts to a sequence of integers.\n",
        "train_sequences = tokenizer.texts_to_sequences(X_train)\n",
        "val_sequences = tokenizer.texts_to_sequences(X_val)\n",
        "test_sequences = tokenizer.texts_to_sequences(X_test)"
      ],
      "execution_count": null,
      "outputs": []
    },
    {
      "cell_type": "code",
      "metadata": {
        "id": "2rc4wFtDLqOV",
        "colab_type": "code",
        "colab": {
          "base_uri": "https://localhost:8080/",
          "height": 72
        },
        "outputId": "af5a390b-0dc6-45ef-9697-2261c36c81f1"
      },
      "source": [
        "print(len(train_sequences))\n",
        "print(train_sequences[0])"
      ],
      "execution_count": null,
      "outputs": [
        {
          "output_type": "stream",
          "text": [
            "8654\n",
            "[2416, 19129, 1669, 431, 56, 247, 15, 10, 12, 1, 272, 4897, 2073, 4897, 653, 7770, 1616, 214, 3, 975, 785, 369, 949, 3, 21, 6975, 2260, 932, 903, 2953, 678, 1591, 137, 17, 125, 1, 1716, 83, 236, 8838, 3041, 932, 3042, 84, 56, 287, 1669, 431, 305, 3810, 248, 1210, 2416, 19129, 1]\n"
          ],
          "name": "stdout"
        }
      ]
    },
    {
      "cell_type": "code",
      "metadata": {
        "id": "I1LyN3r5LnDH",
        "colab_type": "code",
        "colab": {}
      },
      "source": [
        "# Pads sequences to the same length. (required to input the model)\n",
        "train_padded = pad_sequences(train_sequences, padding=padding_type, maxlen=max_words)\n",
        "val_padded = pad_sequences(val_sequences, padding=padding_type, maxlen=max_words)\n",
        "test_padded = pad_sequences(test_sequences, padding=padding_type, maxlen=max_words)"
      ],
      "execution_count": null,
      "outputs": []
    },
    {
      "cell_type": "code",
      "metadata": {
        "id": "OcmuE0eVMBAH",
        "colab_type": "code",
        "colab": {
          "base_uri": "https://localhost:8080/",
          "height": 278
        },
        "outputId": "689e9acc-2359-4e67-dd6c-27cff734ed97"
      },
      "source": [
        "print(len(train_padded))\n",
        "print(train_padded[0])"
      ],
      "execution_count": null,
      "outputs": [
        {
          "output_type": "stream",
          "text": [
            "8654\n",
            "[ 2416 19129  1669   431    56   247    15    10    12     1   272  4897\n",
            "  2073  4897   653  7770  1616   214     3   975   785   369   949     3\n",
            "    21  6975  2260   932   903  2953   678  1591   137    17   125     1\n",
            "  1716    83   236  8838  3041   932  3042    84    56   287  1669   431\n",
            "   305  3810   248  1210  2416 19129     1     0     0     0     0     0\n",
            "     0     0     0     0     0     0     0     0     0     0     0     0\n",
            "     0     0     0     0     0     0     0     0     0     0     0     0\n",
            "     0     0     0     0     0     0     0     0     0     0     0     0\n",
            "     0     0     0     0     0     0     0     0     0     0     0     0\n",
            "     0     0     0     0     0     0     0     0     0     0     0     0\n",
            "     0     0     0     0     0     0     0     0     0     0     0     0\n",
            "     0     0     0     0     0     0     0     0     0     0     0     0\n",
            "     0     0     0     0     0     0     0     0     0     0     0     0\n",
            "     0     0     0     0     0     0     0     0]\n"
          ],
          "name": "stdout"
        }
      ]
    },
    {
      "cell_type": "code",
      "metadata": {
        "id": "sGlBfQAiLopl",
        "colab_type": "code",
        "colab": {}
      },
      "source": [
        "# inserts a dimension of size 1 at the end of the array (required shape to fit the keras model training)\n",
        "y_train = tf.expand_dims(y_train, -1)\n",
        "y_val = tf.expand_dims(y_val, -1)\n",
        "y_test = tf.expand_dims(y_test, -1)"
      ],
      "execution_count": null,
      "outputs": []
    },
    {
      "cell_type": "code",
      "metadata": {
        "id": "z6-6BvG-3139",
        "colab_type": "code",
        "colab": {
          "base_uri": "https://localhost:8080/",
          "height": 121
        },
        "outputId": "a972bc05-d4bd-4c7f-e33c-69485b7afbf3"
      },
      "source": [
        "print(train_padded.shape)\n",
        "print(y_train.shape)\n",
        "\n",
        "print(val_padded.shape)\n",
        "print(y_val.shape)\n",
        "\n",
        "print(test_padded.shape)\n",
        "print(y_test.shape)"
      ],
      "execution_count": null,
      "outputs": [
        {
          "output_type": "stream",
          "text": [
            "(8654, 164)\n",
            "(8654, 1)\n",
            "(962, 164)\n",
            "(962, 1)\n",
            "(1698, 164)\n",
            "(1698, 1)\n"
          ],
          "name": "stdout"
        }
      ]
    },
    {
      "cell_type": "markdown",
      "metadata": {
        "id": "EJjUBiSUiG9X",
        "colab_type": "text"
      },
      "source": [
        "## Create the model"
      ]
    },
    {
      "cell_type": "code",
      "metadata": {
        "id": "rQ23sibp37-s",
        "colab_type": "code",
        "colab": {}
      },
      "source": [
        "# create the model\n",
        "model = tf.keras.Sequential([\n",
        "    tf.keras.layers.Embedding(vocab_size, embedding_dim, input_length=train_padded.shape[1]),\n",
        "    tf.keras.layers.Dropout(0.2),\n",
        "    tf.keras.layers.Conv1D(128, 5, activation='relu'),\n",
        "    tf.keras.layers.GlobalAveragePooling1D(),\n",
        "    tf.keras.layers.Dropout(0.5),\n",
        "    tf.keras.layers.Dense(100, activation='relu'),\n",
        "    tf.keras.layers.Dropout(0.2),\n",
        "    tf.keras.layers.Dense(20, activation='softmax')\n",
        "])"
      ],
      "execution_count": null,
      "outputs": []
    },
    {
      "cell_type": "code",
      "metadata": {
        "id": "sebNlVwi8zna",
        "colab_type": "code",
        "colab": {
          "base_uri": "https://localhost:8080/",
          "height": 434
        },
        "outputId": "43f41d85-841f-45a6-b0c8-4011e6d2202e"
      },
      "source": [
        "# compile model\n",
        "model.compile(loss='sparse_categorical_crossentropy',optimizer='adam',metrics=['accuracy'])\n",
        "model.summary()"
      ],
      "execution_count": null,
      "outputs": [
        {
          "output_type": "stream",
          "text": [
            "Model: \"sequential_20\"\n",
            "_________________________________________________________________\n",
            "Layer (type)                 Output Shape              Param #   \n",
            "=================================================================\n",
            "embedding_22 (Embedding)     (None, 164, 16)           320000    \n",
            "_________________________________________________________________\n",
            "dropout_20 (Dropout)         (None, 164, 16)           0         \n",
            "_________________________________________________________________\n",
            "conv1d_47 (Conv1D)           (None, 160, 128)          10368     \n",
            "_________________________________________________________________\n",
            "global_average_pooling1d_29  (None, 128)               0         \n",
            "_________________________________________________________________\n",
            "dropout_21 (Dropout)         (None, 128)               0         \n",
            "_________________________________________________________________\n",
            "dense_40 (Dense)             (None, 100)               12900     \n",
            "_________________________________________________________________\n",
            "dropout_22 (Dropout)         (None, 100)               0         \n",
            "_________________________________________________________________\n",
            "dense_41 (Dense)             (None, 20)                2020      \n",
            "=================================================================\n",
            "Total params: 345,288\n",
            "Trainable params: 345,288\n",
            "Non-trainable params: 0\n",
            "_________________________________________________________________\n"
          ],
          "name": "stdout"
        }
      ]
    },
    {
      "cell_type": "code",
      "metadata": {
        "id": "eaelAOWmDNNE",
        "colab_type": "code",
        "colab": {
          "base_uri": "https://localhost:8080/",
          "height": 1000
        },
        "outputId": "b905a75c-df4f-4d17-9285-d701551af9ed"
      },
      "source": [
        "num_epochs = 40\n",
        "history = model.fit(train_padded, y_train, epochs=num_epochs, \n",
        "                    validation_data=(val_padded, y_val), verbose=2)"
      ],
      "execution_count": null,
      "outputs": [
        {
          "output_type": "stream",
          "text": [
            "Epoch 1/40\n",
            "271/271 - 3s - loss: 2.7875 - accuracy: 0.0937 - val_loss: 2.3589 - val_accuracy: 0.1861\n",
            "Epoch 2/40\n",
            "271/271 - 3s - loss: 2.2230 - accuracy: 0.1992 - val_loss: 1.9670 - val_accuracy: 0.3472\n",
            "Epoch 3/40\n",
            "271/271 - 3s - loss: 1.7697 - accuracy: 0.3453 - val_loss: 1.4975 - val_accuracy: 0.5031\n",
            "Epoch 4/40\n",
            "271/271 - 3s - loss: 1.3226 - accuracy: 0.5225 - val_loss: 1.1460 - val_accuracy: 0.6518\n",
            "Epoch 5/40\n",
            "271/271 - 2s - loss: 0.9732 - accuracy: 0.6578 - val_loss: 0.9721 - val_accuracy: 0.6954\n",
            "Epoch 6/40\n",
            "271/271 - 3s - loss: 0.7452 - accuracy: 0.7490 - val_loss: 0.8645 - val_accuracy: 0.7453\n",
            "Epoch 7/40\n",
            "271/271 - 3s - loss: 0.5763 - accuracy: 0.8121 - val_loss: 0.8605 - val_accuracy: 0.7547\n",
            "Epoch 8/40\n",
            "271/271 - 3s - loss: 0.4485 - accuracy: 0.8545 - val_loss: 0.8480 - val_accuracy: 0.7807\n",
            "Epoch 9/40\n",
            "271/271 - 3s - loss: 0.3813 - accuracy: 0.8825 - val_loss: 0.8804 - val_accuracy: 0.7713\n",
            "Epoch 10/40\n",
            "271/271 - 2s - loss: 0.3105 - accuracy: 0.9040 - val_loss: 0.9005 - val_accuracy: 0.7879\n",
            "Epoch 11/40\n",
            "271/271 - 3s - loss: 0.2804 - accuracy: 0.9138 - val_loss: 0.9079 - val_accuracy: 0.7911\n",
            "Epoch 12/40\n",
            "271/271 - 3s - loss: 0.2350 - accuracy: 0.9292 - val_loss: 0.9462 - val_accuracy: 0.7859\n",
            "Epoch 13/40\n",
            "271/271 - 3s - loss: 0.2063 - accuracy: 0.9390 - val_loss: 0.9779 - val_accuracy: 0.7931\n",
            "Epoch 14/40\n",
            "271/271 - 3s - loss: 0.1744 - accuracy: 0.9519 - val_loss: 1.0266 - val_accuracy: 0.7859\n",
            "Epoch 15/40\n",
            "271/271 - 3s - loss: 0.1676 - accuracy: 0.9524 - val_loss: 1.0438 - val_accuracy: 0.7879\n",
            "Epoch 16/40\n",
            "271/271 - 3s - loss: 0.1524 - accuracy: 0.9570 - val_loss: 1.0507 - val_accuracy: 0.7963\n",
            "Epoch 17/40\n",
            "271/271 - 3s - loss: 0.1383 - accuracy: 0.9607 - val_loss: 1.0933 - val_accuracy: 0.8035\n",
            "Epoch 18/40\n",
            "271/271 - 2s - loss: 0.1218 - accuracy: 0.9645 - val_loss: 1.1461 - val_accuracy: 0.7963\n",
            "Epoch 19/40\n",
            "271/271 - 3s - loss: 0.1101 - accuracy: 0.9693 - val_loss: 1.1760 - val_accuracy: 0.7931\n",
            "Epoch 20/40\n",
            "271/271 - 3s - loss: 0.1096 - accuracy: 0.9674 - val_loss: 1.1773 - val_accuracy: 0.7921\n",
            "Epoch 21/40\n",
            "271/271 - 3s - loss: 0.1085 - accuracy: 0.9718 - val_loss: 1.1773 - val_accuracy: 0.7942\n",
            "Epoch 22/40\n",
            "271/271 - 3s - loss: 0.0986 - accuracy: 0.9741 - val_loss: 1.1631 - val_accuracy: 0.8025\n",
            "Epoch 23/40\n",
            "271/271 - 3s - loss: 0.0891 - accuracy: 0.9757 - val_loss: 1.2017 - val_accuracy: 0.7973\n",
            "Epoch 24/40\n",
            "271/271 - 3s - loss: 0.0934 - accuracy: 0.9737 - val_loss: 1.2810 - val_accuracy: 0.7859\n",
            "Epoch 25/40\n",
            "271/271 - 3s - loss: 0.0781 - accuracy: 0.9777 - val_loss: 1.2553 - val_accuracy: 0.7859\n",
            "Epoch 26/40\n",
            "271/271 - 3s - loss: 0.0785 - accuracy: 0.9767 - val_loss: 1.3540 - val_accuracy: 0.7817\n",
            "Epoch 27/40\n",
            "271/271 - 3s - loss: 0.0808 - accuracy: 0.9765 - val_loss: 1.3210 - val_accuracy: 0.7848\n",
            "Epoch 28/40\n",
            "271/271 - 3s - loss: 0.0676 - accuracy: 0.9817 - val_loss: 1.3133 - val_accuracy: 0.7890\n",
            "Epoch 29/40\n",
            "271/271 - 3s - loss: 0.0649 - accuracy: 0.9799 - val_loss: 1.3654 - val_accuracy: 0.7848\n",
            "Epoch 30/40\n",
            "271/271 - 3s - loss: 0.0618 - accuracy: 0.9821 - val_loss: 1.4333 - val_accuracy: 0.7848\n",
            "Epoch 31/40\n",
            "271/271 - 2s - loss: 0.0643 - accuracy: 0.9814 - val_loss: 1.4343 - val_accuracy: 0.7900\n",
            "Epoch 32/40\n",
            "271/271 - 3s - loss: 0.0594 - accuracy: 0.9830 - val_loss: 1.4117 - val_accuracy: 0.7942\n",
            "Epoch 33/40\n",
            "271/271 - 2s - loss: 0.0611 - accuracy: 0.9847 - val_loss: 1.4783 - val_accuracy: 0.7921\n",
            "Epoch 34/40\n",
            "271/271 - 3s - loss: 0.0595 - accuracy: 0.9843 - val_loss: 1.4783 - val_accuracy: 0.8035\n",
            "Epoch 35/40\n",
            "271/271 - 2s - loss: 0.0553 - accuracy: 0.9843 - val_loss: 1.4881 - val_accuracy: 0.7963\n",
            "Epoch 36/40\n",
            "271/271 - 3s - loss: 0.0555 - accuracy: 0.9839 - val_loss: 1.4602 - val_accuracy: 0.7890\n",
            "Epoch 37/40\n",
            "271/271 - 3s - loss: 0.0599 - accuracy: 0.9841 - val_loss: 1.4989 - val_accuracy: 0.7879\n",
            "Epoch 38/40\n",
            "271/271 - 3s - loss: 0.0454 - accuracy: 0.9881 - val_loss: 1.5302 - val_accuracy: 0.7890\n",
            "Epoch 39/40\n",
            "271/271 - 3s - loss: 0.0478 - accuracy: 0.9873 - val_loss: 1.5902 - val_accuracy: 0.7827\n",
            "Epoch 40/40\n",
            "271/271 - 3s - loss: 0.0486 - accuracy: 0.9865 - val_loss: 1.5324 - val_accuracy: 0.7921\n"
          ],
          "name": "stdout"
        }
      ]
    },
    {
      "cell_type": "markdown",
      "metadata": {
        "id": "kSPijPxciKtX",
        "colab_type": "text"
      },
      "source": [
        "## Check how the model performs"
      ]
    },
    {
      "cell_type": "code",
      "metadata": {
        "id": "BX97-bAVDNET",
        "colab_type": "code",
        "colab": {
          "base_uri": "https://localhost:8080/",
          "height": 1000
        },
        "outputId": "fcc25875-39bd-450b-fcef-50dcae171348"
      },
      "source": [
        "import matplotlib.pyplot as plt\n",
        "\n",
        "\n",
        "def plot_graphs(history, string):\n",
        "  plt.plot(history.history[string])\n",
        "  plt.plot(history.history['val_'+string])\n",
        "  plt.xlabel(\"Epochs\")\n",
        "  plt.ylabel(string)\n",
        "  plt.legend([string, 'val_'+string])\n",
        "  plt.show()\n",
        "  \n",
        "plot_graphs(history, \"accuracy\")\n",
        "plot_graphs(history, \"loss\")"
      ],
      "execution_count": null,
      "outputs": [
        {
          "output_type": "display_data",
          "data": {
            "image/png": "[encoded data removed]",
            "text/plain": [
              "<Figure size 800x800 with 1 Axes>"
            ]
          },
          "metadata": {
            "tags": [],
            "needs_background": "light"
          }
        },
        {
          "output_type": "display_data",
          "data": {
            "image/png": "[encoded data removed]",
            "text/plain": [
              "<Figure size 800x800 with 1 Axes>"
            ]
          },
          "metadata": {
            "tags": [],
            "needs_background": "light"
          }
        }
      ]
    },
    {
      "cell_type": "code",
      "metadata": {
        "id": "ouV-vPdcDM8Y",
        "colab_type": "code",
        "colab": {}
      },
      "source": [
        "# make prediction on the test dataset\n",
        "y_hat = model.predict(test_padded)"
      ],
      "execution_count": null,
      "outputs": []
    },
    {
      "cell_type": "code",
      "metadata": {
        "id": "Y2pX5TrQh81Y",
        "colab_type": "code",
        "colab": {
          "base_uri": "https://localhost:8080/",
          "height": 52
        },
        "outputId": "db9867f8-440f-4664-990f-2223915bab05"
      },
      "source": [
        "print(y_hat.shape)\n",
        "print(y_test.shape)"
      ],
      "execution_count": null,
      "outputs": [
        {
          "output_type": "stream",
          "text": [
            "(1698, 20)\n",
            "(1698, 1)\n"
          ],
          "name": "stdout"
        }
      ]
    },
    {
      "cell_type": "code",
      "metadata": {
        "id": "MlihtbHmm925",
        "colab_type": "code",
        "colab": {
          "base_uri": "https://localhost:8080/",
          "height": 121
        },
        "outputId": "cb620273-6f58-4787-efa3-670bcb4ed1d7"
      },
      "source": [
        "# result of softmax output layer (probabilities)\n",
        "y_hat[0]"
      ],
      "execution_count": null,
      "outputs": [
        {
          "output_type": "execute_result",
          "data": {
            "text/plain": [
              "array([8.13644013e-11, 2.52522051e-01, 4.25022226e-05, 4.70035288e-10,\n",
              "       8.98344332e-09, 1.22294425e-10, 8.65720115e-18, 2.42283822e-16,\n",
              "       8.55790092e-12, 1.94225753e-13, 1.13482906e-13, 7.43737459e-01,\n",
              "       6.26668480e-05, 2.78507615e-03, 7.07581115e-04, 5.72950411e-12,\n",
              "       3.55332418e-07, 5.80143169e-05, 8.42650697e-05, 1.34926662e-12],\n",
              "      dtype=float32)"
            ]
          },
          "metadata": {
            "tags": []
          },
          "execution_count": 205
        }
      ]
    },
    {
      "cell_type": "code",
      "metadata": {
        "id": "GpLirqMQwy9j",
        "colab_type": "code",
        "colab": {}
      },
      "source": [
        "# transform the softmax output to sparse categorical\n",
        "y_hat = tf.argmax(y_hat, axis=1)\n",
        "y_hat = tf.expand_dims(y_hat, -1)"
      ],
      "execution_count": null,
      "outputs": []
    },
    {
      "cell_type": "code",
      "metadata": {
        "id": "q0LUd2sEw6vW",
        "colab_type": "code",
        "colab": {
          "base_uri": "https://localhost:8080/",
          "height": 382
        },
        "outputId": "91a641a6-6742-4547-99e5-c1954fd8bb1e"
      },
      "source": [
        "print(y_hat.shape)\n",
        "print(y_hat[0])\n",
        "print(y_hat)\n",
        "print('-----------------------------------------------------------------------')\n",
        "\n",
        "print(y_test.shape)\n",
        "print(y_test[0])\n",
        "print(y_test)"
      ],
      "execution_count": null,
      "outputs": [
        {
          "output_type": "stream",
          "text": [
            "(1698, 1)\n",
            "tf.Tensor([11], shape=(1,), dtype=int64)\n",
            "tf.Tensor(\n",
            "[[11]\n",
            " [ 5]\n",
            " [ 0]\n",
            " ...\n",
            " [ 6]\n",
            " [ 8]\n",
            " [ 8]], shape=(1698, 1), dtype=int64)\n",
            "-----------------------------------------------------------------------\n",
            "(1698, 1)\n",
            "tf.Tensor([11], shape=(1,), dtype=int64)\n",
            "tf.Tensor(\n",
            "[[11]\n",
            " [19]\n",
            " [16]\n",
            " ...\n",
            " [ 6]\n",
            " [ 8]\n",
            " [ 8]], shape=(1698, 1), dtype=int64)\n"
          ],
          "name": "stdout"
        }
      ]
    },
    {
      "cell_type": "code",
      "metadata": {
        "id": "dCDzc7QiDM0z",
        "colab_type": "code",
        "colab": {
          "base_uri": "https://localhost:8080/",
          "height": 34
        },
        "outputId": "d9d5cfd5-13a3-4958-ce9a-353268ad89e1"
      },
      "source": [
        "# check if the model performs well on unseen data\n",
        "accuracy_score = sk.metrics.accuracy_score(y_test, y_hat)\n",
        "print(accuracy_score)"
      ],
      "execution_count": null,
      "outputs": [
        {
          "output_type": "stream",
          "text": [
            "0.7997644287396938\n"
          ],
          "name": "stdout"
        }
      ]
    },
    {
      "cell_type": "markdown",
      "metadata": {
        "id": "JFILHZH42AT8",
        "colab_type": "text"
      },
      "source": [
        "## Let's try using adding an already trained embedded layer"
      ]
    },
    {
      "cell_type": "code",
      "metadata": {
        "id": "reTGTZ882O1S",
        "colab_type": "code",
        "colab": {
          "base_uri": "https://localhost:8080/",
          "height": 208
        },
        "outputId": "1e80d35c-2e06-4b65-9f90-91b087822109"
      },
      "source": [
        "# we'll use a 100 dimension pre trained embedded layer \n",
        "embedding_dim = 100\n",
        "\n",
        "# Note this is the 100 dimension version of GloVe from Stanford\n",
        "# Already unzipped and hosted on laurence moroney site to make this notebook easier\n",
        "!wget --no-check-certificate \\\n",
        "    https://storage.googleapis.com/laurencemoroney-blog.appspot.com/glove.6B.100d.txt \\\n",
        "    -O /tmp/glove.6B.100d.txt\n",
        "embeddings_index = {};\n",
        "with open('/tmp/glove.6B.100d.txt') as f:\n",
        "    for line in f:\n",
        "        values = line.split();\n",
        "        word = values[0];\n",
        "        coefs = np.asarray(values[1:], dtype='float32');\n",
        "        embeddings_index[word] = coefs;"
      ],
      "execution_count": null,
      "outputs": [
        {
          "output_type": "stream",
          "text": [
            "--2020-07-24 14:56:20--  https://storage.googleapis.com/laurencemoroney-blog.appspot.com/glove.6B.100d.txt\n",
            "Resolving storage.googleapis.com (storage.googleapis.com)... 172.217.212.128, 172.217.214.128, 108.177.111.128, ...\n",
            "Connecting to storage.googleapis.com (storage.googleapis.com)|172.217.212.128|:443... connected.\n",
            "HTTP request sent, awaiting response... 200 OK\n",
            "Length: 347116733 (331M) [text/plain]\n",
            "Saving to: ‘/tmp/glove.6B.100d.txt’\n",
            "\n",
            "/tmp/glove.6B.100d. 100%[===================>] 331.04M   153MB/s    in 2.2s    \n",
            "\n",
            "2020-07-24 14:56:22 (153 MB/s) - ‘/tmp/glove.6B.100d.txt’ saved [347116733/347116733]\n",
            "\n"
          ],
          "name": "stdout"
        }
      ]
    },
    {
      "cell_type": "code",
      "metadata": {
        "id": "IWGQ1cqH4NZD",
        "colab_type": "code",
        "colab": {
          "base_uri": "https://localhost:8080/",
          "height": 295
        },
        "outputId": "ea77ee64-c47a-40a4-d223-fd1a823e0099"
      },
      "source": [
        "print(len(embeddings_index))\n",
        "print(embeddings_index['fell'])"
      ],
      "execution_count": null,
      "outputs": [
        {
          "output_type": "stream",
          "text": [
            "400000\n",
            "[ 1.1723    0.47077   0.24895   0.34277   0.15616  -0.64096   0.29827\n",
            " -0.41819  -0.35123  -0.45461   0.64912   0.21499  -0.12391  -0.24777\n",
            "  0.75844  -0.66743  -0.84218   0.1259   -0.033644  0.18011   1.4764\n",
            "  0.11518   0.75285   1.3225    0.52252  -0.36595  -0.38948  -0.35271\n",
            " -0.078046 -0.18693   0.28865  -0.32948  -0.16373   0.066645 -0.31936\n",
            "  0.78904   0.51626  -0.17687   0.32629  -0.1747   -0.057353 -0.73643\n",
            " -0.14736  -0.50068   0.1074    0.40757  -0.035597  0.80876   0.38344\n",
            " -1.6169   -0.022249 -0.041174  0.43792   1.4448   -0.36316  -1.8444\n",
            " -0.92259   0.11691   1.7746    1.1205    0.48343  -0.25156  -0.7128\n",
            "  0.5216   -0.72338   0.12475   0.21331   0.4404    0.65213   0.34467\n",
            " -0.60703   0.32183   0.13004   0.4413   -0.43109  -0.08948  -0.56405\n",
            "  0.58261  -0.71475   0.35147   0.23263   0.88021  -0.57649  -0.11717\n",
            " -0.92284  -0.988    -0.090227 -0.072176  0.49901   0.79342   0.23638\n",
            "  0.074772 -0.2732    0.475    -1.2078    0.53425   0.58641   0.070467\n",
            "  0.096335 -0.2843  ]\n"
          ],
          "name": "stdout"
        }
      ]
    },
    {
      "cell_type": "code",
      "metadata": {
        "id": "tvcgr3In5BAr",
        "colab_type": "code",
        "colab": {
          "base_uri": "https://localhost:8080/",
          "height": 34
        },
        "outputId": "b70c2f3a-7bcc-4932-d654-08b9201c4d7c"
      },
      "source": [
        "# there are more words on the 'word_index' than our desired vocabulary size\n",
        "# The Tokenizer stores everything in the word_index during fit_on_texts. \n",
        "# Then, when calling the texts_to_sequences method, only the top num_words are considered.\n",
        "print(len(word_index))\n",
        "#print(word_index)"
      ],
      "execution_count": null,
      "outputs": [
        {
          "output_type": "stream",
          "text": [
            "89357\n"
          ],
          "name": "stdout"
        }
      ]
    },
    {
      "cell_type": "markdown",
      "metadata": {
        "id": "wlZazaDihs4m",
        "colab_type": "text"
      },
      "source": [
        "## Creating our embedded layer"
      ]
    },
    {
      "cell_type": "code",
      "metadata": {
        "id": "Wfp2VljC395v",
        "colab_type": "code",
        "colab": {}
      },
      "source": [
        "# create an embedding matrix for the first 'vocab_size' words\n",
        "# on the 'word_index' created by the Tokenizer\n",
        "# 'vocab_size + 1' the 'plus one' is the zero used for the padding\n",
        "# it's embedded values are all zeroes\n",
        "embeddings_matrix = np.zeros((vocab_size+1, embedding_dim));\n",
        "wi_c = 0\n",
        "for word, i in word_index.items():\n",
        "    # stop after the number of words 'vocab_size'\n",
        "    # the first value will not be iterated, thus it is zero\n",
        "    if wi_c == vocab_size:\n",
        "        break\n",
        "    wi_c += 1\n",
        "\n",
        "    # get only the needed words to the embedded layer\n",
        "    embedding_vector = embeddings_index.get(word);\n",
        "    if embedding_vector is not None:\n",
        "        embeddings_matrix[i] = embedding_vector;\n"
      ],
      "execution_count": null,
      "outputs": []
    },
    {
      "cell_type": "code",
      "metadata": {
        "id": "eqNlhQ9V2OyT",
        "colab_type": "code",
        "colab": {
          "base_uri": "https://localhost:8080/",
          "height": 260
        },
        "outputId": "547c8900-df73-48c0-cbb4-bbda05c94302"
      },
      "source": [
        "print(embeddings_matrix.shape)\n",
        "print(embeddings_matrix)"
      ],
      "execution_count": null,
      "outputs": [
        {
          "output_type": "stream",
          "text": [
            "(20001, 100)\n",
            "[[ 0.00000000e+00  0.00000000e+00  0.00000000e+00 ...  0.00000000e+00\n",
            "   0.00000000e+00  0.00000000e+00]\n",
            " [ 0.00000000e+00  0.00000000e+00  0.00000000e+00 ...  0.00000000e+00\n",
            "   0.00000000e+00  0.00000000e+00]\n",
            " [ 0.00000000e+00  0.00000000e+00  0.00000000e+00 ...  0.00000000e+00\n",
            "   0.00000000e+00  0.00000000e+00]\n",
            " ...\n",
            " [ 6.66700006e-01  4.27980006e-01  1.80710003e-01 ...  1.37889996e-01\n",
            "  -1.14070000e-02 -7.40620017e-01]\n",
            " [-2.51549989e-01 -4.06970009e-02  5.60880005e-01 ... -8.91839992e-03\n",
            "  -5.57090007e-02  5.29079974e-01]\n",
            " [-4.84600008e-01  4.18020010e-01  5.99720001e-01 ...  4.32740003e-01\n",
            "   6.18770003e-01 -6.25170011e-04]]\n"
          ],
          "name": "stdout"
        }
      ]
    },
    {
      "cell_type": "markdown",
      "metadata": {
        "id": "vtBLcHqKh1ZL",
        "colab_type": "text"
      },
      "source": [
        "## Create new model with pre-trained embedded layer"
      ]
    },
    {
      "cell_type": "code",
      "metadata": {
        "colab_type": "code",
        "id": "IXVlLs7d2IaE",
        "colab": {}
      },
      "source": [
        "# create the model\n",
        "model = tf.keras.Sequential([\n",
        "    tf.keras.layers.Embedding(vocab_size+1, embedding_dim, input_length=train_padded.shape[1], weights=[embeddings_matrix], trainable=False),\n",
        "    tf.keras.layers.Dropout(0.2),\n",
        "    tf.keras.layers.Conv1D(128, 5, activation='relu'),\n",
        "    tf.keras.layers.GlobalAveragePooling1D(),\n",
        "    tf.keras.layers.Dropout(0.35),\n",
        "    tf.keras.layers.Dense(100, activation='relu'),\n",
        "    tf.keras.layers.Dropout(0.2),\n",
        "    tf.keras.layers.Dense(20, activation='softmax')\n",
        "])"
      ],
      "execution_count": null,
      "outputs": []
    },
    {
      "cell_type": "code",
      "metadata": {
        "colab_type": "code",
        "id": "3ugqBWpS2Iat",
        "colab": {
          "base_uri": "https://localhost:8080/",
          "height": 434
        },
        "outputId": "c39f571e-5a74-49f3-cbe9-97dbcd7b2fa1"
      },
      "source": [
        "# compile model\n",
        "model.compile(loss='sparse_categorical_crossentropy',optimizer='adam',metrics=['accuracy'])\n",
        "model.summary()"
      ],
      "execution_count": null,
      "outputs": [
        {
          "output_type": "stream",
          "text": [
            "Model: \"sequential_27\"\n",
            "_________________________________________________________________\n",
            "Layer (type)                 Output Shape              Param #   \n",
            "=================================================================\n",
            "embedding_29 (Embedding)     (None, 164, 100)          2000100   \n",
            "_________________________________________________________________\n",
            "dropout_41 (Dropout)         (None, 164, 100)          0         \n",
            "_________________________________________________________________\n",
            "conv1d_59 (Conv1D)           (None, 160, 128)          64128     \n",
            "_________________________________________________________________\n",
            "global_average_pooling1d_33  (None, 128)               0         \n",
            "_________________________________________________________________\n",
            "dropout_42 (Dropout)         (None, 128)               0         \n",
            "_________________________________________________________________\n",
            "dense_54 (Dense)             (None, 100)               12900     \n",
            "_________________________________________________________________\n",
            "dropout_43 (Dropout)         (None, 100)               0         \n",
            "_________________________________________________________________\n",
            "dense_55 (Dense)             (None, 20)                2020      \n",
            "=================================================================\n",
            "Total params: 2,079,148\n",
            "Trainable params: 79,048\n",
            "Non-trainable params: 2,000,100\n",
            "_________________________________________________________________\n"
          ],
          "name": "stdout"
        }
      ]
    },
    {
      "cell_type": "code",
      "metadata": {
        "colab_type": "code",
        "id": "KFBs1h1W2Ia3",
        "colab": {
          "base_uri": "https://localhost:8080/",
          "height": 1000
        },
        "outputId": "e0806ae7-7b05-4a79-857a-daa10858a4fb"
      },
      "source": [
        "num_epochs = 150\n",
        "history = model.fit(train_padded, y_train, epochs=num_epochs, \n",
        "                    validation_data=(val_padded, y_val), verbose=2)"
      ],
      "execution_count": null,
      "outputs": [
        {
          "output_type": "stream",
          "text": [
            "Epoch 1/150\n",
            "271/271 - 2s - loss: 2.2905 - accuracy: 0.2716 - val_loss: 1.5760 - val_accuracy: 0.5353\n",
            "Epoch 2/150\n",
            "271/271 - 2s - loss: 1.6597 - accuracy: 0.4508 - val_loss: 1.3418 - val_accuracy: 0.5852\n",
            "Epoch 3/150\n",
            "271/271 - 2s - loss: 1.4607 - accuracy: 0.5133 - val_loss: 1.2195 - val_accuracy: 0.6133\n",
            "Epoch 4/150\n",
            "271/271 - 2s - loss: 1.3505 - accuracy: 0.5488 - val_loss: 1.1510 - val_accuracy: 0.6518\n",
            "Epoch 5/150\n",
            "271/271 - 2s - loss: 1.2857 - accuracy: 0.5759 - val_loss: 1.0934 - val_accuracy: 0.6549\n",
            "Epoch 6/150\n",
            "271/271 - 2s - loss: 1.2233 - accuracy: 0.5941 - val_loss: 1.0556 - val_accuracy: 0.6590\n",
            "Epoch 7/150\n",
            "271/271 - 2s - loss: 1.1878 - accuracy: 0.6070 - val_loss: 1.0245 - val_accuracy: 0.6736\n",
            "Epoch 8/150\n",
            "271/271 - 2s - loss: 1.1477 - accuracy: 0.6212 - val_loss: 1.0089 - val_accuracy: 0.6881\n",
            "Epoch 9/150\n",
            "271/271 - 2s - loss: 1.1122 - accuracy: 0.6362 - val_loss: 0.9711 - val_accuracy: 0.6913\n",
            "Epoch 10/150\n",
            "271/271 - 2s - loss: 1.0821 - accuracy: 0.6455 - val_loss: 0.9491 - val_accuracy: 0.7037\n",
            "Epoch 11/150\n",
            "271/271 - 2s - loss: 1.0706 - accuracy: 0.6499 - val_loss: 0.9420 - val_accuracy: 0.6954\n",
            "Epoch 12/150\n",
            "271/271 - 2s - loss: 1.0343 - accuracy: 0.6569 - val_loss: 0.9284 - val_accuracy: 0.7027\n",
            "Epoch 13/150\n",
            "271/271 - 2s - loss: 1.0294 - accuracy: 0.6613 - val_loss: 0.9078 - val_accuracy: 0.7183\n",
            "Epoch 14/150\n",
            "271/271 - 2s - loss: 0.9956 - accuracy: 0.6754 - val_loss: 0.8943 - val_accuracy: 0.7162\n",
            "Epoch 15/150\n",
            "271/271 - 2s - loss: 0.9891 - accuracy: 0.6801 - val_loss: 0.8868 - val_accuracy: 0.7277\n",
            "Epoch 16/150\n",
            "271/271 - 2s - loss: 0.9599 - accuracy: 0.6842 - val_loss: 0.8532 - val_accuracy: 0.7287\n",
            "Epoch 17/150\n",
            "271/271 - 2s - loss: 0.9559 - accuracy: 0.6918 - val_loss: 0.8698 - val_accuracy: 0.7380\n",
            "Epoch 18/150\n",
            "271/271 - 2s - loss: 0.9398 - accuracy: 0.6915 - val_loss: 0.8410 - val_accuracy: 0.7349\n",
            "Epoch 19/150\n",
            "271/271 - 2s - loss: 0.9130 - accuracy: 0.7006 - val_loss: 0.8306 - val_accuracy: 0.7391\n",
            "Epoch 20/150\n",
            "271/271 - 2s - loss: 0.9069 - accuracy: 0.7088 - val_loss: 0.8271 - val_accuracy: 0.7328\n",
            "Epoch 21/150\n",
            "271/271 - 2s - loss: 0.9030 - accuracy: 0.7117 - val_loss: 0.8186 - val_accuracy: 0.7412\n",
            "Epoch 22/150\n",
            "271/271 - 2s - loss: 0.8684 - accuracy: 0.7146 - val_loss: 0.8100 - val_accuracy: 0.7443\n",
            "Epoch 23/150\n",
            "271/271 - 2s - loss: 0.8710 - accuracy: 0.7152 - val_loss: 0.7989 - val_accuracy: 0.7443\n",
            "Epoch 24/150\n",
            "271/271 - 2s - loss: 0.8476 - accuracy: 0.7205 - val_loss: 0.7971 - val_accuracy: 0.7547\n",
            "Epoch 25/150\n",
            "271/271 - 2s - loss: 0.8474 - accuracy: 0.7254 - val_loss: 0.8013 - val_accuracy: 0.7391\n",
            "Epoch 26/150\n",
            "271/271 - 2s - loss: 0.8350 - accuracy: 0.7192 - val_loss: 0.7866 - val_accuracy: 0.7578\n",
            "Epoch 27/150\n",
            "271/271 - 2s - loss: 0.8210 - accuracy: 0.7340 - val_loss: 0.7902 - val_accuracy: 0.7526\n",
            "Epoch 28/150\n",
            "271/271 - 2s - loss: 0.8123 - accuracy: 0.7348 - val_loss: 0.7761 - val_accuracy: 0.7588\n",
            "Epoch 29/150\n",
            "271/271 - 2s - loss: 0.8051 - accuracy: 0.7348 - val_loss: 0.7680 - val_accuracy: 0.7578\n",
            "Epoch 30/150\n",
            "271/271 - 2s - loss: 0.7905 - accuracy: 0.7395 - val_loss: 0.7618 - val_accuracy: 0.7640\n",
            "Epoch 31/150\n",
            "271/271 - 2s - loss: 0.7924 - accuracy: 0.7423 - val_loss: 0.7660 - val_accuracy: 0.7672\n",
            "Epoch 32/150\n",
            "271/271 - 2s - loss: 0.7680 - accuracy: 0.7446 - val_loss: 0.7517 - val_accuracy: 0.7723\n",
            "Epoch 33/150\n",
            "271/271 - 2s - loss: 0.7661 - accuracy: 0.7464 - val_loss: 0.7516 - val_accuracy: 0.7692\n",
            "Epoch 34/150\n",
            "271/271 - 2s - loss: 0.7638 - accuracy: 0.7484 - val_loss: 0.7337 - val_accuracy: 0.7755\n",
            "Epoch 35/150\n",
            "271/271 - 2s - loss: 0.7473 - accuracy: 0.7573 - val_loss: 0.7572 - val_accuracy: 0.7640\n",
            "Epoch 36/150\n",
            "271/271 - 2s - loss: 0.7417 - accuracy: 0.7523 - val_loss: 0.7261 - val_accuracy: 0.7661\n",
            "Epoch 37/150\n",
            "271/271 - 2s - loss: 0.7358 - accuracy: 0.7563 - val_loss: 0.7200 - val_accuracy: 0.7744\n",
            "Epoch 38/150\n",
            "271/271 - 2s - loss: 0.7318 - accuracy: 0.7529 - val_loss: 0.7303 - val_accuracy: 0.7734\n",
            "Epoch 39/150\n",
            "271/271 - 2s - loss: 0.7213 - accuracy: 0.7593 - val_loss: 0.7250 - val_accuracy: 0.7817\n",
            "Epoch 40/150\n",
            "271/271 - 2s - loss: 0.7196 - accuracy: 0.7623 - val_loss: 0.7233 - val_accuracy: 0.7838\n",
            "Epoch 41/150\n",
            "271/271 - 2s - loss: 0.7004 - accuracy: 0.7688 - val_loss: 0.7155 - val_accuracy: 0.7838\n",
            "Epoch 42/150\n",
            "271/271 - 2s - loss: 0.6932 - accuracy: 0.7702 - val_loss: 0.7226 - val_accuracy: 0.7786\n",
            "Epoch 43/150\n",
            "271/271 - 2s - loss: 0.6955 - accuracy: 0.7719 - val_loss: 0.7178 - val_accuracy: 0.7796\n",
            "Epoch 44/150\n",
            "271/271 - 2s - loss: 0.6773 - accuracy: 0.7719 - val_loss: 0.7185 - val_accuracy: 0.7827\n",
            "Epoch 45/150\n",
            "271/271 - 2s - loss: 0.6767 - accuracy: 0.7718 - val_loss: 0.7146 - val_accuracy: 0.7807\n",
            "Epoch 46/150\n",
            "271/271 - 2s - loss: 0.6725 - accuracy: 0.7779 - val_loss: 0.7168 - val_accuracy: 0.7744\n",
            "Epoch 47/150\n",
            "271/271 - 2s - loss: 0.6553 - accuracy: 0.7840 - val_loss: 0.7005 - val_accuracy: 0.7807\n",
            "Epoch 48/150\n",
            "271/271 - 2s - loss: 0.6502 - accuracy: 0.7816 - val_loss: 0.7043 - val_accuracy: 0.7900\n",
            "Epoch 49/150\n",
            "271/271 - 2s - loss: 0.6447 - accuracy: 0.7861 - val_loss: 0.6806 - val_accuracy: 0.7859\n",
            "Epoch 50/150\n",
            "271/271 - 2s - loss: 0.6552 - accuracy: 0.7844 - val_loss: 0.6940 - val_accuracy: 0.7890\n",
            "Epoch 51/150\n",
            "271/271 - 2s - loss: 0.6250 - accuracy: 0.7895 - val_loss: 0.7023 - val_accuracy: 0.7859\n",
            "Epoch 52/150\n",
            "271/271 - 2s - loss: 0.6411 - accuracy: 0.7858 - val_loss: 0.6880 - val_accuracy: 0.7983\n",
            "Epoch 53/150\n",
            "271/271 - 2s - loss: 0.6363 - accuracy: 0.7881 - val_loss: 0.6918 - val_accuracy: 0.7952\n",
            "Epoch 54/150\n",
            "271/271 - 2s - loss: 0.6186 - accuracy: 0.7903 - val_loss: 0.6908 - val_accuracy: 0.8004\n",
            "Epoch 55/150\n",
            "271/271 - 2s - loss: 0.6169 - accuracy: 0.7965 - val_loss: 0.6788 - val_accuracy: 0.7952\n",
            "Epoch 56/150\n",
            "271/271 - 2s - loss: 0.5957 - accuracy: 0.7976 - val_loss: 0.6684 - val_accuracy: 0.7983\n",
            "Epoch 57/150\n",
            "271/271 - 2s - loss: 0.6008 - accuracy: 0.7973 - val_loss: 0.6651 - val_accuracy: 0.8035\n",
            "Epoch 58/150\n",
            "271/271 - 2s - loss: 0.5958 - accuracy: 0.8017 - val_loss: 0.6755 - val_accuracy: 0.8015\n",
            "Epoch 59/150\n",
            "271/271 - 2s - loss: 0.5950 - accuracy: 0.7995 - val_loss: 0.6739 - val_accuracy: 0.7963\n",
            "Epoch 60/150\n",
            "271/271 - 2s - loss: 0.6025 - accuracy: 0.7972 - val_loss: 0.6663 - val_accuracy: 0.8004\n",
            "Epoch 61/150\n",
            "271/271 - 2s - loss: 0.5868 - accuracy: 0.8034 - val_loss: 0.6631 - val_accuracy: 0.8098\n",
            "Epoch 62/150\n",
            "271/271 - 2s - loss: 0.5782 - accuracy: 0.8066 - val_loss: 0.6678 - val_accuracy: 0.7994\n",
            "Epoch 63/150\n",
            "271/271 - 2s - loss: 0.5735 - accuracy: 0.8097 - val_loss: 0.6531 - val_accuracy: 0.8108\n",
            "Epoch 64/150\n",
            "271/271 - 2s - loss: 0.5677 - accuracy: 0.8107 - val_loss: 0.6541 - val_accuracy: 0.8108\n",
            "Epoch 65/150\n",
            "271/271 - 2s - loss: 0.5619 - accuracy: 0.8100 - val_loss: 0.6573 - val_accuracy: 0.8015\n",
            "Epoch 66/150\n",
            "271/271 - 2s - loss: 0.5585 - accuracy: 0.8200 - val_loss: 0.6513 - val_accuracy: 0.8077\n",
            "Epoch 67/150\n",
            "271/271 - 2s - loss: 0.5394 - accuracy: 0.8214 - val_loss: 0.6449 - val_accuracy: 0.8067\n",
            "Epoch 68/150\n",
            "271/271 - 2s - loss: 0.5481 - accuracy: 0.8214 - val_loss: 0.6444 - val_accuracy: 0.8077\n",
            "Epoch 69/150\n",
            "271/271 - 2s - loss: 0.5505 - accuracy: 0.8153 - val_loss: 0.6391 - val_accuracy: 0.8056\n",
            "Epoch 70/150\n",
            "271/271 - 2s - loss: 0.5393 - accuracy: 0.8155 - val_loss: 0.6396 - val_accuracy: 0.8139\n",
            "Epoch 71/150\n",
            "271/271 - 2s - loss: 0.5304 - accuracy: 0.8246 - val_loss: 0.6403 - val_accuracy: 0.8067\n",
            "Epoch 72/150\n",
            "271/271 - 2s - loss: 0.5230 - accuracy: 0.8215 - val_loss: 0.6294 - val_accuracy: 0.8087\n",
            "Epoch 73/150\n",
            "271/271 - 2s - loss: 0.5218 - accuracy: 0.8284 - val_loss: 0.6414 - val_accuracy: 0.8098\n",
            "Epoch 74/150\n",
            "271/271 - 2s - loss: 0.5268 - accuracy: 0.8232 - val_loss: 0.6309 - val_accuracy: 0.8160\n",
            "Epoch 75/150\n",
            "271/271 - 2s - loss: 0.5203 - accuracy: 0.8297 - val_loss: 0.6344 - val_accuracy: 0.8129\n",
            "Epoch 76/150\n",
            "271/271 - 2s - loss: 0.5076 - accuracy: 0.8304 - val_loss: 0.6255 - val_accuracy: 0.8191\n",
            "Epoch 77/150\n",
            "271/271 - 2s - loss: 0.5156 - accuracy: 0.8256 - val_loss: 0.6319 - val_accuracy: 0.8150\n",
            "Epoch 78/150\n",
            "271/271 - 2s - loss: 0.4929 - accuracy: 0.8378 - val_loss: 0.6213 - val_accuracy: 0.8170\n",
            "Epoch 79/150\n",
            "271/271 - 2s - loss: 0.4911 - accuracy: 0.8337 - val_loss: 0.6257 - val_accuracy: 0.8119\n",
            "Epoch 80/150\n",
            "271/271 - 2s - loss: 0.5063 - accuracy: 0.8304 - val_loss: 0.6414 - val_accuracy: 0.8087\n",
            "Epoch 81/150\n",
            "271/271 - 2s - loss: 0.5015 - accuracy: 0.8348 - val_loss: 0.6319 - val_accuracy: 0.8181\n",
            "Epoch 82/150\n",
            "271/271 - 2s - loss: 0.4824 - accuracy: 0.8400 - val_loss: 0.6255 - val_accuracy: 0.8191\n",
            "Epoch 83/150\n",
            "271/271 - 2s - loss: 0.4842 - accuracy: 0.8391 - val_loss: 0.6195 - val_accuracy: 0.8170\n",
            "Epoch 84/150\n",
            "271/271 - 2s - loss: 0.4797 - accuracy: 0.8356 - val_loss: 0.6059 - val_accuracy: 0.8222\n",
            "Epoch 85/150\n",
            "271/271 - 2s - loss: 0.4754 - accuracy: 0.8423 - val_loss: 0.6201 - val_accuracy: 0.8212\n",
            "Epoch 86/150\n",
            "271/271 - 2s - loss: 0.4731 - accuracy: 0.8418 - val_loss: 0.6112 - val_accuracy: 0.8264\n",
            "Epoch 87/150\n",
            "271/271 - 2s - loss: 0.4683 - accuracy: 0.8445 - val_loss: 0.6110 - val_accuracy: 0.8295\n",
            "Epoch 88/150\n",
            "271/271 - 2s - loss: 0.4451 - accuracy: 0.8492 - val_loss: 0.6144 - val_accuracy: 0.8254\n",
            "Epoch 89/150\n",
            "271/271 - 2s - loss: 0.4639 - accuracy: 0.8433 - val_loss: 0.6015 - val_accuracy: 0.8264\n",
            "Epoch 90/150\n",
            "271/271 - 2s - loss: 0.4502 - accuracy: 0.8479 - val_loss: 0.6130 - val_accuracy: 0.8202\n",
            "Epoch 91/150\n",
            "271/271 - 2s - loss: 0.4615 - accuracy: 0.8489 - val_loss: 0.6016 - val_accuracy: 0.8181\n",
            "Epoch 92/150\n",
            "271/271 - 2s - loss: 0.4461 - accuracy: 0.8495 - val_loss: 0.6198 - val_accuracy: 0.8285\n",
            "Epoch 93/150\n",
            "271/271 - 2s - loss: 0.4415 - accuracy: 0.8500 - val_loss: 0.6041 - val_accuracy: 0.8285\n",
            "Epoch 94/150\n",
            "271/271 - 2s - loss: 0.4402 - accuracy: 0.8487 - val_loss: 0.6009 - val_accuracy: 0.8264\n",
            "Epoch 95/150\n",
            "271/271 - 2s - loss: 0.4291 - accuracy: 0.8544 - val_loss: 0.6011 - val_accuracy: 0.8285\n",
            "Epoch 96/150\n",
            "271/271 - 2s - loss: 0.4297 - accuracy: 0.8582 - val_loss: 0.5967 - val_accuracy: 0.8368\n",
            "Epoch 97/150\n",
            "271/271 - 2s - loss: 0.4324 - accuracy: 0.8545 - val_loss: 0.5981 - val_accuracy: 0.8254\n",
            "Epoch 98/150\n",
            "271/271 - 2s - loss: 0.4289 - accuracy: 0.8556 - val_loss: 0.5966 - val_accuracy: 0.8264\n",
            "Epoch 99/150\n",
            "271/271 - 2s - loss: 0.4382 - accuracy: 0.8550 - val_loss: 0.6051 - val_accuracy: 0.8191\n",
            "Epoch 100/150\n",
            "271/271 - 2s - loss: 0.4178 - accuracy: 0.8624 - val_loss: 0.6084 - val_accuracy: 0.8274\n",
            "Epoch 101/150\n",
            "271/271 - 2s - loss: 0.4242 - accuracy: 0.8616 - val_loss: 0.5860 - val_accuracy: 0.8295\n",
            "Epoch 102/150\n",
            "271/271 - 2s - loss: 0.4142 - accuracy: 0.8598 - val_loss: 0.5913 - val_accuracy: 0.8337\n",
            "Epoch 103/150\n",
            "271/271 - 2s - loss: 0.4113 - accuracy: 0.8653 - val_loss: 0.5809 - val_accuracy: 0.8316\n",
            "Epoch 104/150\n",
            "271/271 - 2s - loss: 0.4167 - accuracy: 0.8590 - val_loss: 0.5929 - val_accuracy: 0.8316\n",
            "Epoch 105/150\n",
            "271/271 - 2s - loss: 0.3929 - accuracy: 0.8702 - val_loss: 0.5903 - val_accuracy: 0.8337\n",
            "Epoch 106/150\n",
            "271/271 - 2s - loss: 0.4009 - accuracy: 0.8705 - val_loss: 0.5888 - val_accuracy: 0.8358\n",
            "Epoch 107/150\n",
            "271/271 - 2s - loss: 0.3930 - accuracy: 0.8668 - val_loss: 0.5860 - val_accuracy: 0.8316\n",
            "Epoch 108/150\n",
            "271/271 - 2s - loss: 0.4009 - accuracy: 0.8643 - val_loss: 0.5880 - val_accuracy: 0.8306\n",
            "Epoch 109/150\n",
            "271/271 - 2s - loss: 0.3953 - accuracy: 0.8699 - val_loss: 0.5821 - val_accuracy: 0.8389\n",
            "Epoch 110/150\n",
            "271/271 - 2s - loss: 0.3740 - accuracy: 0.8724 - val_loss: 0.5793 - val_accuracy: 0.8337\n",
            "Epoch 111/150\n",
            "271/271 - 2s - loss: 0.3878 - accuracy: 0.8673 - val_loss: 0.5821 - val_accuracy: 0.8337\n",
            "Epoch 112/150\n",
            "271/271 - 2s - loss: 0.3849 - accuracy: 0.8734 - val_loss: 0.5663 - val_accuracy: 0.8358\n",
            "Epoch 113/150\n",
            "271/271 - 2s - loss: 0.3852 - accuracy: 0.8694 - val_loss: 0.5752 - val_accuracy: 0.8295\n",
            "Epoch 114/150\n",
            "271/271 - 2s - loss: 0.3788 - accuracy: 0.8753 - val_loss: 0.5762 - val_accuracy: 0.8347\n",
            "Epoch 115/150\n",
            "271/271 - 2s - loss: 0.3774 - accuracy: 0.8738 - val_loss: 0.5696 - val_accuracy: 0.8399\n",
            "Epoch 116/150\n",
            "271/271 - 2s - loss: 0.3761 - accuracy: 0.8727 - val_loss: 0.5773 - val_accuracy: 0.8358\n",
            "Epoch 117/150\n",
            "271/271 - 2s - loss: 0.3618 - accuracy: 0.8786 - val_loss: 0.5831 - val_accuracy: 0.8358\n",
            "Epoch 118/150\n",
            "271/271 - 2s - loss: 0.3702 - accuracy: 0.8752 - val_loss: 0.5829 - val_accuracy: 0.8410\n",
            "Epoch 119/150\n",
            "271/271 - 2s - loss: 0.3845 - accuracy: 0.8697 - val_loss: 0.5720 - val_accuracy: 0.8430\n",
            "Epoch 120/150\n",
            "271/271 - 2s - loss: 0.3795 - accuracy: 0.8755 - val_loss: 0.5833 - val_accuracy: 0.8326\n",
            "Epoch 121/150\n",
            "271/271 - 2s - loss: 0.3644 - accuracy: 0.8820 - val_loss: 0.5825 - val_accuracy: 0.8358\n",
            "Epoch 122/150\n",
            "271/271 - 2s - loss: 0.3574 - accuracy: 0.8818 - val_loss: 0.5834 - val_accuracy: 0.8389\n",
            "Epoch 123/150\n",
            "271/271 - 2s - loss: 0.3636 - accuracy: 0.8786 - val_loss: 0.5856 - val_accuracy: 0.8389\n",
            "Epoch 124/150\n",
            "271/271 - 2s - loss: 0.3552 - accuracy: 0.8802 - val_loss: 0.5847 - val_accuracy: 0.8337\n",
            "Epoch 125/150\n",
            "271/271 - 2s - loss: 0.3565 - accuracy: 0.8834 - val_loss: 0.5847 - val_accuracy: 0.8347\n",
            "Epoch 126/150\n",
            "271/271 - 2s - loss: 0.3560 - accuracy: 0.8831 - val_loss: 0.5886 - val_accuracy: 0.8389\n",
            "Epoch 127/150\n",
            "271/271 - 2s - loss: 0.3504 - accuracy: 0.8819 - val_loss: 0.5739 - val_accuracy: 0.8410\n",
            "Epoch 128/150\n",
            "271/271 - 2s - loss: 0.3403 - accuracy: 0.8861 - val_loss: 0.5909 - val_accuracy: 0.8472\n",
            "Epoch 129/150\n",
            "271/271 - 2s - loss: 0.3479 - accuracy: 0.8875 - val_loss: 0.5840 - val_accuracy: 0.8368\n",
            "Epoch 130/150\n",
            "271/271 - 2s - loss: 0.3404 - accuracy: 0.8848 - val_loss: 0.5803 - val_accuracy: 0.8389\n",
            "Epoch 131/150\n",
            "271/271 - 2s - loss: 0.3486 - accuracy: 0.8843 - val_loss: 0.5811 - val_accuracy: 0.8347\n",
            "Epoch 132/150\n",
            "271/271 - 2s - loss: 0.3394 - accuracy: 0.8894 - val_loss: 0.5878 - val_accuracy: 0.8378\n",
            "Epoch 133/150\n",
            "271/271 - 2s - loss: 0.3383 - accuracy: 0.8873 - val_loss: 0.6131 - val_accuracy: 0.8347\n",
            "Epoch 134/150\n",
            "271/271 - 2s - loss: 0.3333 - accuracy: 0.8898 - val_loss: 0.5891 - val_accuracy: 0.8441\n",
            "Epoch 135/150\n",
            "271/271 - 2s - loss: 0.3277 - accuracy: 0.8911 - val_loss: 0.5857 - val_accuracy: 0.8358\n",
            "Epoch 136/150\n",
            "271/271 - 2s - loss: 0.3333 - accuracy: 0.8876 - val_loss: 0.5772 - val_accuracy: 0.8451\n",
            "Epoch 137/150\n",
            "271/271 - 2s - loss: 0.3390 - accuracy: 0.8909 - val_loss: 0.5682 - val_accuracy: 0.8410\n",
            "Epoch 138/150\n",
            "271/271 - 2s - loss: 0.3338 - accuracy: 0.8903 - val_loss: 0.5699 - val_accuracy: 0.8451\n",
            "Epoch 139/150\n",
            "271/271 - 2s - loss: 0.3052 - accuracy: 0.8962 - val_loss: 0.5754 - val_accuracy: 0.8399\n",
            "Epoch 140/150\n",
            "271/271 - 2s - loss: 0.3234 - accuracy: 0.8925 - val_loss: 0.5827 - val_accuracy: 0.8420\n",
            "Epoch 141/150\n",
            "271/271 - 2s - loss: 0.3284 - accuracy: 0.8884 - val_loss: 0.5759 - val_accuracy: 0.8493\n",
            "Epoch 142/150\n",
            "271/271 - 2s - loss: 0.3191 - accuracy: 0.8946 - val_loss: 0.5861 - val_accuracy: 0.8410\n",
            "Epoch 143/150\n",
            "271/271 - 2s - loss: 0.3244 - accuracy: 0.8931 - val_loss: 0.5907 - val_accuracy: 0.8347\n",
            "Epoch 144/150\n",
            "271/271 - 2s - loss: 0.3247 - accuracy: 0.8921 - val_loss: 0.5757 - val_accuracy: 0.8462\n",
            "Epoch 145/150\n",
            "271/271 - 2s - loss: 0.3110 - accuracy: 0.8932 - val_loss: 0.5694 - val_accuracy: 0.8451\n",
            "Epoch 146/150\n",
            "271/271 - 2s - loss: 0.3248 - accuracy: 0.8944 - val_loss: 0.5652 - val_accuracy: 0.8451\n",
            "Epoch 147/150\n",
            "271/271 - 2s - loss: 0.3000 - accuracy: 0.8981 - val_loss: 0.5773 - val_accuracy: 0.8472\n",
            "Epoch 148/150\n",
            "271/271 - 2s - loss: 0.3146 - accuracy: 0.8931 - val_loss: 0.5707 - val_accuracy: 0.8472\n",
            "Epoch 149/150\n",
            "271/271 - 2s - loss: 0.3225 - accuracy: 0.8931 - val_loss: 0.5696 - val_accuracy: 0.8430\n",
            "Epoch 150/150\n",
            "271/271 - 2s - loss: 0.3155 - accuracy: 0.8930 - val_loss: 0.5681 - val_accuracy: 0.8441\n"
          ],
          "name": "stdout"
        }
      ]
    },
    {
      "cell_type": "markdown",
      "metadata": {
        "id": "SGtPCEAoh85d",
        "colab_type": "text"
      },
      "source": [
        "## Check how the model performs"
      ]
    },
    {
      "cell_type": "code",
      "metadata": {
        "colab_type": "code",
        "id": "3xQ92N-B2Ia_",
        "colab": {
          "base_uri": "https://localhost:8080/",
          "height": 1000
        },
        "outputId": "62ba85c7-8737-4dc5-f56a-01efbcf88215"
      },
      "source": [
        "import matplotlib.pyplot as plt\n",
        "\n",
        "def plot_graphs(history, string):\n",
        "  plt.plot(history.history[string])\n",
        "  plt.plot(history.history['val_'+string])\n",
        "  plt.xlabel(\"Epochs\")\n",
        "  plt.ylabel(string)\n",
        "  plt.legend([string, 'val_'+string])\n",
        "  plt.show()\n",
        "  \n",
        "plot_graphs(history, \"accuracy\")\n",
        "plot_graphs(history, \"loss\")"
      ],
      "execution_count": null,
      "outputs": [
        {
          "output_type": "display_data",
          "data": {
            "image/png": "[encoded data removed]",
            "text/plain": [
              "<Figure size 800x800 with 1 Axes>"
            ]
          },
          "metadata": {
            "tags": [],
            "needs_background": "light"
          }
        },
        {
          "output_type": "display_data",
          "data": {
            "image/png": "[encoded data removed]",
            "text/plain": [
              "<Figure size 800x800 with 1 Axes>"
            ]
          },
          "metadata": {
            "tags": [],
            "needs_background": "light"
          }
        }
      ]
    },
    {
      "cell_type": "code",
      "metadata": {
        "colab_type": "code",
        "id": "TWXMNZUS4RXy",
        "colab": {}
      },
      "source": [
        "# predict on test dataset\n",
        "y_hat = model.predict(test_padded)"
      ],
      "execution_count": null,
      "outputs": []
    },
    {
      "cell_type": "code",
      "metadata": {
        "colab_type": "code",
        "id": "erYSKNwL4RYb",
        "colab": {
          "base_uri": "https://localhost:8080/",
          "height": 52
        },
        "outputId": "97e68f35-c014-4644-c683-63d26fe947ae"
      },
      "source": [
        "print(y_hat.shape)\n",
        "print(y_test.shape)"
      ],
      "execution_count": null,
      "outputs": [
        {
          "output_type": "stream",
          "text": [
            "(1698, 20)\n",
            "(1698, 1)\n"
          ],
          "name": "stdout"
        }
      ]
    },
    {
      "cell_type": "code",
      "metadata": {
        "colab_type": "code",
        "id": "WTmpwAk04RYp",
        "colab": {
          "base_uri": "https://localhost:8080/",
          "height": 121
        },
        "outputId": "026042a7-95cc-4745-9734-4a43df87bee8"
      },
      "source": [
        "# result of softmax output layer (probabilities)\n",
        "y_hat[0]"
      ],
      "execution_count": null,
      "outputs": [
        {
          "output_type": "execute_result",
          "data": {
            "text/plain": [
              "array([6.2157380e-07, 3.6178266e-03, 1.8171255e-03, 2.0800896e-03,\n",
              "       6.2363782e-05, 6.9949143e-03, 4.0384988e-05, 4.5608240e-06,\n",
              "       1.5237625e-05, 5.7125595e-07, 2.4893725e-06, 9.8401654e-01,\n",
              "       6.7503680e-04, 2.0626654e-05, 3.7990143e-05, 1.2252261e-08,\n",
              "       5.6575873e-04, 8.5459033e-06, 1.4375124e-05, 2.4909272e-05],\n",
              "      dtype=float32)"
            ]
          },
          "metadata": {
            "tags": []
          },
          "execution_count": 280
        }
      ]
    },
    {
      "cell_type": "code",
      "metadata": {
        "colab_type": "code",
        "id": "lAYzwACS4RYx",
        "colab": {}
      },
      "source": [
        "# transform the softmax output to sparse categorical\n",
        "y_hat = tf.argmax(y_hat, axis=1)\n",
        "y_hat = tf.expand_dims(y_hat, -1)"
      ],
      "execution_count": null,
      "outputs": []
    },
    {
      "cell_type": "code",
      "metadata": {
        "colab_type": "code",
        "id": "yP4i9W_m4RY4",
        "colab": {
          "base_uri": "https://localhost:8080/",
          "height": 382
        },
        "outputId": "c4bb8878-8f39-47e5-c2c2-4dd12a106000"
      },
      "source": [
        "print(y_hat.shape)\n",
        "print(y_hat[0])\n",
        "print(y_hat)\n",
        "print('-----------------------------------------------------------------------')\n",
        "\n",
        "print(y_test.shape)\n",
        "print(y_test[0])\n",
        "print(y_test)"
      ],
      "execution_count": null,
      "outputs": [
        {
          "output_type": "stream",
          "text": [
            "(1698, 1)\n",
            "tf.Tensor([11], shape=(1,), dtype=int64)\n",
            "tf.Tensor(\n",
            "[[11]\n",
            " [ 6]\n",
            " [16]\n",
            " ...\n",
            " [ 6]\n",
            " [ 8]\n",
            " [ 8]], shape=(1698, 1), dtype=int64)\n",
            "-----------------------------------------------------------------------\n",
            "(1698, 1)\n",
            "tf.Tensor([11], shape=(1,), dtype=int64)\n",
            "tf.Tensor(\n",
            "[[11]\n",
            " [19]\n",
            " [16]\n",
            " ...\n",
            " [ 6]\n",
            " [ 8]\n",
            " [ 8]], shape=(1698, 1), dtype=int64)\n"
          ],
          "name": "stdout"
        }
      ]
    },
    {
      "cell_type": "code",
      "metadata": {
        "colab_type": "code",
        "id": "jLqt8boY4RZD",
        "colab": {
          "base_uri": "https://localhost:8080/",
          "height": 34
        },
        "outputId": "29ceed46-8a7c-46c0-a536-7691bb2d4f19"
      },
      "source": [
        "# check if the model performs well on unseen data\n",
        "from sklearn.metrics import accuracy_score\n",
        "acc_score = accuracy_score(y_test, y_hat)\n",
        "print(acc_score)"
      ],
      "execution_count": null,
      "outputs": [
        {
          "output_type": "stream",
          "text": [
            "0.8180212014134276\n"
          ],
          "name": "stdout"
        }
      ]
    },
    {
      "cell_type": "code",
      "metadata": {
        "id": "-hfM4ekBHJP8",
        "colab_type": "code",
        "colab": {}
      },
      "source": [
        "# confusion matrix\n",
        "cm = confusion_matrix(y_test, y_hat)"
      ],
      "execution_count": null,
      "outputs": []
    },
    {
      "cell_type": "code",
      "metadata": {
        "colab_type": "code",
        "id": "KRMQ6P79Gjph",
        "colab": {
          "base_uri": "https://localhost:8080/",
          "height": 486
        },
        "outputId": "15f58f09-deaf-4c4d-83e6-5250433a5cd4"
      },
      "source": [
        "# text report showing the main classification metrics\n",
        "print(classification_report(y_test, y_hat))"
      ],
      "execution_count": null,
      "outputs": [
        {
          "output_type": "stream",
          "text": [
            "              precision    recall  f1-score   support\n",
            "\n",
            "           0       0.84      0.76      0.80        76\n",
            "           1       0.76      0.86      0.80       105\n",
            "           2       0.69      0.80      0.74        83\n",
            "           3       0.59      0.72      0.65        81\n",
            "           4       0.89      0.63      0.74        89\n",
            "           5       0.72      0.71      0.72        84\n",
            "           6       0.78      0.79      0.78        78\n",
            "           7       0.75      0.91      0.83        70\n",
            "           8       0.99      0.84      0.91        86\n",
            "           9       0.94      0.93      0.93        96\n",
            "          10       0.95      0.93      0.94        76\n",
            "          11       0.90      0.89      0.89       100\n",
            "          12       0.72      0.65      0.68        85\n",
            "          13       0.90      0.93      0.92        82\n",
            "          14       0.90      0.90      0.90        82\n",
            "          15       0.80      0.88      0.84        97\n",
            "          16       0.89      0.86      0.87        91\n",
            "          17       0.89      0.92      0.91        99\n",
            "          18       0.77      0.74      0.76        78\n",
            "          19       0.73      0.62      0.67        60\n",
            "\n",
            "    accuracy                           0.82      1698\n",
            "   macro avg       0.82      0.81      0.81      1698\n",
            "weighted avg       0.82      0.82      0.82      1698\n",
            "\n"
          ],
          "name": "stdout"
        }
      ]
    },
    {
      "cell_type": "code",
      "metadata": {
        "colab_type": "code",
        "id": "T2bQynRwGjqE",
        "colab": {
          "base_uri": "https://localhost:8080/",
          "height": 643
        },
        "outputId": "a3e52659-79e5-48f0-94e6-9b7b94d52713"
      },
      "source": [
        "# plot the confusion matrix\n",
        "plt.rcParams.update({'figure.figsize': (10, 10), 'figure.dpi': 80})\n",
        "plt.figure(figsize=(10, 10))\n",
        "sns.heatmap(cm, annot=True, fmt=\".0f\", linewidths=.5, square = True, cmap = 'Blues_r');\n",
        "plt.ylabel('Actual label');\n",
        "plt.xlabel('Predicted label');\n",
        "all_sample_title = f'Accuracy Score: {acc_score}'\n",
        "plt.title(all_sample_title, size = 15);"
      ],
      "execution_count": null,
      "outputs": [
        {
          "output_type": "display_data",
          "data": {
            "image/png": "[encoded data removed]",
            "text/plain": [
              "<Figure size 800x800 with 2 Axes>"
            ]
          },
          "metadata": {
            "tags": [],
            "needs_background": "light"
          }
        }
      ]
    },
    {
      "cell_type": "markdown",
      "metadata": {
        "id": "5r_-_5TFhgxN",
        "colab_type": "text"
      },
      "source": [
        "## Quick test on new data"
      ]
    },
    {
      "cell_type": "code",
      "metadata": {
        "id": "SKYsXJEtcNm_",
        "colab_type": "code",
        "colab": {
          "base_uri": "https://localhost:8080/",
          "height": 86
        },
        "outputId": "8fde9ca4-b7e9-492e-9306-d20f10577f0a"
      },
      "source": [
        "# custom phrases\n",
        "docs_new = ['God is love', \n",
        "            'OpenGL on the GPU is fast', \n",
        "            \"You can not go on without our new product. There's a promotion for you right now!!\", \n",
        "            'You should read the BIBLE! It is the greatest book of all time.']\n",
        "\n",
        "\n",
        "# Transforms each text in texts to a sequence of integers.\n",
        "docs_sequences = tokenizer.texts_to_sequences(docs_new)\n",
        "\n",
        "# Pads sequences to the same length.\n",
        "docs_padded = pad_sequences(docs_sequences, padding=padding_type, maxlen=max_words)\n",
        "\n",
        "# make prediction on the new dataset\n",
        "predicted = model.predict(docs_padded)\n",
        "\n",
        "# transform the softmax output to sparse categorical\n",
        "predicted = tf.argmax(predicted, axis=1)\n",
        "\n",
        "for doc, category in zip(docs_new, predicted):\n",
        "    print(f'{doc} => {twenty.target_names[category]}')"
      ],
      "execution_count": null,
      "outputs": [
        {
          "output_type": "stream",
          "text": [
            "God is love => comp.windows.x\n",
            "OpenGL on the GPU is fast => comp.windows.x\n",
            "You can not go on without our new product. There's a promotion for you right now!! => comp.windows.x\n",
            "You should read the BIBLE! It is the greatest book of all time. => comp.windows.x\n"
          ],
          "name": "stdout"
        }
      ]
    },
    {
      "cell_type": "markdown",
      "metadata": {
        "id": "_Uy4IeMwlL3T",
        "colab_type": "text"
      },
      "source": [
        "# Conclusion\n",
        "\n",
        "The Naive-Bayes model was very easy and quick to create and it performed very well even on our first try.\n",
        "\n",
        "The Deep Learning model performed well too, nonetheless it wasn't the best performer model. Altough the accuracy of this model wasn't as good as the previous model, we could check that even when the prediction was not accurate, the wrong predictions were classified as to a class close to the correct answer. That's due to the power of the pre-trained embedding in NN that captures the relative fields in which the words are usually inserted into.\n",
        "\n",
        "- The **Naive-Bayes is very quick to implement**. The model itself does not require tunning it's hiperparameters (not in most cases). On the other hand, **usually the data must be well pre-processed** before being fed to the model, in this case the pre-processing is very simple.\n",
        "\n",
        "- The **Deep Learning model requires a lot of hiperparameter** tunning and also testing and **finding a proper model architecture** to perform better (was not the focus on this notebook). A bigger dataset always happen to help deep learning models as well. That would take a lot more of our time.\n"
      ]
    },
    {
      "cell_type": "markdown",
      "metadata": {
        "id": "jjIjyE_MCJAI",
        "colab_type": "text"
      },
      "source": [
        "# References\n",
        "\n",
        "- Jeffrey Pennington, Richard Socher, and Christopher D. Manning. 2014. [GloVe: Global Vectors for Word Representation](https://nlp.stanford.edu/pubs/glove.pdf)\n",
        "- https://nlp.stanford.edu/projects/glove/\n",
        "- https://www.tensorflow.org/tutorials/text/word_embeddings\n",
        "- https://github.com/keras-team/keras/issues/7551\n",
        "- https://www.tensorflow.org/api_docs/python/tf/keras/preprocessing/text/Tokenizer\n",
        "- https://www.analyticsvidhya.com/blog/2017/09/naive-bayes-explained/\n",
        "- https://scikit-learn.org/stable/modules/naive_bayes.html\n",
        "- https://gist.github.com/sebleier/554280\n",
        "- https://machinelearningmastery.com/prepare-text-data-machine-learning-scikit-learn/\n",
        "- https://scikit-learn.org/stable/modules/generated/sklearn.feature_extraction.text.TfidfTransformer.html\n",
        "- http://qwone.com/~jason/20Newsgroups/\n"
      ]
    }
  ]
}